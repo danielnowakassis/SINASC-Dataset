{
 "cells": [
  {
   "cell_type": "markdown",
   "metadata": {
    "colab_type": "text",
    "id": "WwufnHfvfSwv",
    "pycharm": {
     "name": "#%% md\n"
    }
   },
   "source": [
    "# Final Report - Data Science \n",
    "## Bachelor in Computer Science / PUCPR\n",
    "\n",
    "Professor Jean Paul Barddal\n",
    "\n",
    "Daniel Nowak Assis - daniel.nowak@pucpr.edu.br\n",
    "\n",
    "Enzo Ramon Campa - colocar email\n",
    "\n",
    "Leandro Ceron Durau - colocar email\n",
    "\n",
    "Ivson Soares (Completar nome) - colocar email\n",
    "\n",
    "2023"
   ]
  },
  {
   "cell_type": "markdown",
   "metadata": {
    "colab_type": "text",
    "id": "68-F6cD9VL-J",
    "pycharm": {
     "name": "#%% md\n"
    }
   },
   "source": [
    "# Import the libs you need"
   ]
  },
  {
   "cell_type": "code",
   "execution_count": 1,
   "metadata": {
    "colab": {},
    "colab_type": "code",
    "id": "itrIGnaaVQnH",
    "pycharm": {
     "name": "#%%\n"
    }
   },
   "outputs": [],
   "source": [
    "# Import all packages you need here\n",
    "import pandas as pd\n",
    "import numpy as np\n",
    "# etc"
   ]
  },
  {
   "cell_type": "markdown",
   "metadata": {
    "colab_type": "text",
    "id": "kTP1pmiPgDY_",
    "pycharm": {
     "name": "#%% md\n"
    }
   },
   "source": [
    "# Loading your data"
   ]
  },
  {
   "cell_type": "markdown",
   "metadata": {
    "colab_type": "text",
    "id": "DIRXQ53th3am",
    "pycharm": {
     "name": "#%% md\n"
    }
   },
   "source": [
    "Below, load the data using pandas and make all the necessary data cleansing so that all data types are correct for posterior analysis."
   ]
  },
  {
   "cell_type": "code",
   "execution_count": 2,
   "metadata": {
    "colab": {},
    "colab_type": "code",
    "id": "-VCzmIHcgA2P",
    "pycharm": {
     "name": "#%%\n"
    }
   },
   "outputs": [],
   "source": [
    "# load your data here\n",
    "df = pd.read_csv('./sinasc_checkpoint.csv')"
   ]
  },
  {
   "cell_type": "code",
   "execution_count": 5,
   "metadata": {
    "colab": {},
    "colab_type": "code",
    "id": "Zpe46g9NiAy5",
    "pycharm": {
     "name": "#%%\n"
    }
   },
   "outputs": [
    {
     "data": {
      "text/html": [
       "<div>\n",
       "<style scoped>\n",
       "    .dataframe tbody tr th:only-of-type {\n",
       "        vertical-align: middle;\n",
       "    }\n",
       "\n",
       "    .dataframe tbody tr th {\n",
       "        vertical-align: top;\n",
       "    }\n",
       "\n",
       "    .dataframe thead th {\n",
       "        text-align: right;\n",
       "    }\n",
       "</style>\n",
       "<table border=\"1\" class=\"dataframe\">\n",
       "  <thead>\n",
       "    <tr style=\"text-align: right;\">\n",
       "      <th></th>\n",
       "      <th>LOCNASC</th>\n",
       "      <th>IDADEMAE</th>\n",
       "      <th>ESTCIVMAE</th>\n",
       "      <th>QTDFILVIVO</th>\n",
       "      <th>QTDFILMORT</th>\n",
       "      <th>GRAVIDEZ</th>\n",
       "      <th>PARTO</th>\n",
       "      <th>CONSULTAS</th>\n",
       "      <th>SEXO</th>\n",
       "      <th>PESO</th>\n",
       "      <th>...</th>\n",
       "      <th>STCESPARTO</th>\n",
       "      <th>TPNASCASSI</th>\n",
       "      <th>TPFUNCRESP</th>\n",
       "      <th>STDNEPIDEM</th>\n",
       "      <th>STDNNOVA</th>\n",
       "      <th>PARIDADE</th>\n",
       "      <th>KOTELCHUCK</th>\n",
       "      <th>Porte</th>\n",
       "      <th>GESTACAO</th>\n",
       "      <th>IDH</th>\n",
       "    </tr>\n",
       "  </thead>\n",
       "  <tbody>\n",
       "    <tr>\n",
       "      <th>0</th>\n",
       "      <td>Aldeia Indígena</td>\n",
       "      <td>23.0</td>\n",
       "      <td>Solteira</td>\n",
       "      <td>4.0</td>\n",
       "      <td>NaN</td>\n",
       "      <td>1.0</td>\n",
       "      <td>Vaginal</td>\n",
       "      <td>2.0</td>\n",
       "      <td>1</td>\n",
       "      <td>3400.0</td>\n",
       "      <td>...</td>\n",
       "      <td>Não se aplica</td>\n",
       "      <td>Outros</td>\n",
       "      <td>Outros</td>\n",
       "      <td>0.0</td>\n",
       "      <td>1.0</td>\n",
       "      <td>Multípara</td>\n",
       "      <td>2.0</td>\n",
       "      <td>Pequeno I</td>\n",
       "      <td>Não Prematuro</td>\n",
       "      <td>0.739</td>\n",
       "    </tr>\n",
       "    <tr>\n",
       "      <th>1</th>\n",
       "      <td>Hospital</td>\n",
       "      <td>42.0</td>\n",
       "      <td>Solteira</td>\n",
       "      <td>8.0</td>\n",
       "      <td>1.0</td>\n",
       "      <td>1.0</td>\n",
       "      <td>Vaginal</td>\n",
       "      <td>4.0</td>\n",
       "      <td>1</td>\n",
       "      <td>3475.0</td>\n",
       "      <td>...</td>\n",
       "      <td>Não se aplica</td>\n",
       "      <td>Médico</td>\n",
       "      <td>Enfermeiro</td>\n",
       "      <td>0.0</td>\n",
       "      <td>1.0</td>\n",
       "      <td>Multípara</td>\n",
       "      <td>5.0</td>\n",
       "      <td>Pequeno II</td>\n",
       "      <td>Prematuro</td>\n",
       "      <td>0.724</td>\n",
       "    </tr>\n",
       "    <tr>\n",
       "      <th>2</th>\n",
       "      <td>Hospital</td>\n",
       "      <td>38.0</td>\n",
       "      <td>Separada judicialmente/divorciada</td>\n",
       "      <td>1.0</td>\n",
       "      <td>0.0</td>\n",
       "      <td>1.0</td>\n",
       "      <td>Vaginal</td>\n",
       "      <td>4.0</td>\n",
       "      <td>2</td>\n",
       "      <td>2445.0</td>\n",
       "      <td>...</td>\n",
       "      <td>Não se aplica</td>\n",
       "      <td>Médico</td>\n",
       "      <td>Outros</td>\n",
       "      <td>0.0</td>\n",
       "      <td>1.0</td>\n",
       "      <td>Multípara</td>\n",
       "      <td>5.0</td>\n",
       "      <td>Grande</td>\n",
       "      <td>Prematuro</td>\n",
       "      <td>0.792</td>\n",
       "    </tr>\n",
       "    <tr>\n",
       "      <th>3</th>\n",
       "      <td>Hospital</td>\n",
       "      <td>23.0</td>\n",
       "      <td>Solteira</td>\n",
       "      <td>1.0</td>\n",
       "      <td>0.0</td>\n",
       "      <td>1.0</td>\n",
       "      <td>Cesário</td>\n",
       "      <td>4.0</td>\n",
       "      <td>1</td>\n",
       "      <td>3405.0</td>\n",
       "      <td>...</td>\n",
       "      <td>Sim</td>\n",
       "      <td>Médico</td>\n",
       "      <td>Enfermeiro</td>\n",
       "      <td>0.0</td>\n",
       "      <td>1.0</td>\n",
       "      <td>Multípara</td>\n",
       "      <td>5.0</td>\n",
       "      <td>Metrópole</td>\n",
       "      <td>Não Prematuro</td>\n",
       "      <td>0.785</td>\n",
       "    </tr>\n",
       "    <tr>\n",
       "      <th>4</th>\n",
       "      <td>Hospital</td>\n",
       "      <td>23.0</td>\n",
       "      <td>Solteira</td>\n",
       "      <td>1.0</td>\n",
       "      <td>0.0</td>\n",
       "      <td>1.0</td>\n",
       "      <td>Cesário</td>\n",
       "      <td>3.0</td>\n",
       "      <td>1</td>\n",
       "      <td>3160.0</td>\n",
       "      <td>...</td>\n",
       "      <td>Não</td>\n",
       "      <td>Médico</td>\n",
       "      <td>Outros</td>\n",
       "      <td>0.0</td>\n",
       "      <td>1.0</td>\n",
       "      <td>Multípara</td>\n",
       "      <td>3.0</td>\n",
       "      <td>Grande</td>\n",
       "      <td>Não Prematuro</td>\n",
       "      <td>0.760</td>\n",
       "    </tr>\n",
       "    <tr>\n",
       "      <th>...</th>\n",
       "      <td>...</td>\n",
       "      <td>...</td>\n",
       "      <td>...</td>\n",
       "      <td>...</td>\n",
       "      <td>...</td>\n",
       "      <td>...</td>\n",
       "      <td>...</td>\n",
       "      <td>...</td>\n",
       "      <td>...</td>\n",
       "      <td>...</td>\n",
       "      <td>...</td>\n",
       "      <td>...</td>\n",
       "      <td>...</td>\n",
       "      <td>...</td>\n",
       "      <td>...</td>\n",
       "      <td>...</td>\n",
       "      <td>...</td>\n",
       "      <td>...</td>\n",
       "      <td>...</td>\n",
       "      <td>...</td>\n",
       "      <td>...</td>\n",
       "    </tr>\n",
       "    <tr>\n",
       "      <th>2642807</th>\n",
       "      <td>Hospital</td>\n",
       "      <td>22.0</td>\n",
       "      <td>Solteira</td>\n",
       "      <td>2.0</td>\n",
       "      <td>0.0</td>\n",
       "      <td>1.0</td>\n",
       "      <td>Vaginal</td>\n",
       "      <td>4.0</td>\n",
       "      <td>2</td>\n",
       "      <td>2896.0</td>\n",
       "      <td>...</td>\n",
       "      <td>Não se aplica</td>\n",
       "      <td>Médico</td>\n",
       "      <td>Enfermeiro</td>\n",
       "      <td>0.0</td>\n",
       "      <td>1.0</td>\n",
       "      <td>Multípara</td>\n",
       "      <td>5.0</td>\n",
       "      <td>Grande</td>\n",
       "      <td>Não Prematuro</td>\n",
       "      <td>0.787</td>\n",
       "    </tr>\n",
       "    <tr>\n",
       "      <th>2642808</th>\n",
       "      <td>Hospital</td>\n",
       "      <td>22.0</td>\n",
       "      <td>Solteira</td>\n",
       "      <td>1.0</td>\n",
       "      <td>0.0</td>\n",
       "      <td>1.0</td>\n",
       "      <td>Vaginal</td>\n",
       "      <td>4.0</td>\n",
       "      <td>1</td>\n",
       "      <td>2905.0</td>\n",
       "      <td>...</td>\n",
       "      <td>Não se aplica</td>\n",
       "      <td>Enfermagem ou Obstetriz</td>\n",
       "      <td>Enfermeiro</td>\n",
       "      <td>0.0</td>\n",
       "      <td>1.0</td>\n",
       "      <td>Multípara</td>\n",
       "      <td>5.0</td>\n",
       "      <td>Pequeno II</td>\n",
       "      <td>Não Prematuro</td>\n",
       "      <td>0.755</td>\n",
       "    </tr>\n",
       "    <tr>\n",
       "      <th>2642809</th>\n",
       "      <td>Hospital</td>\n",
       "      <td>28.0</td>\n",
       "      <td>Casada</td>\n",
       "      <td>0.0</td>\n",
       "      <td>0.0</td>\n",
       "      <td>1.0</td>\n",
       "      <td>Cesário</td>\n",
       "      <td>4.0</td>\n",
       "      <td>2</td>\n",
       "      <td>3428.0</td>\n",
       "      <td>...</td>\n",
       "      <td>Não</td>\n",
       "      <td>Médico</td>\n",
       "      <td>Enfermeiro</td>\n",
       "      <td>0.0</td>\n",
       "      <td>1.0</td>\n",
       "      <td>Nulípara</td>\n",
       "      <td>5.0</td>\n",
       "      <td>Metrópole</td>\n",
       "      <td>Não Prematuro</td>\n",
       "      <td>0.758</td>\n",
       "    </tr>\n",
       "    <tr>\n",
       "      <th>2642810</th>\n",
       "      <td>Hospital</td>\n",
       "      <td>40.0</td>\n",
       "      <td>Casada</td>\n",
       "      <td>2.0</td>\n",
       "      <td>0.0</td>\n",
       "      <td>1.0</td>\n",
       "      <td>Cesário</td>\n",
       "      <td>4.0</td>\n",
       "      <td>1</td>\n",
       "      <td>3185.0</td>\n",
       "      <td>...</td>\n",
       "      <td>Não</td>\n",
       "      <td>Médico</td>\n",
       "      <td>Funcionário do cartório</td>\n",
       "      <td>0.0</td>\n",
       "      <td>1.0</td>\n",
       "      <td>Multípara</td>\n",
       "      <td>5.0</td>\n",
       "      <td>Metrópole</td>\n",
       "      <td>Não Prematuro</td>\n",
       "      <td>0.785</td>\n",
       "    </tr>\n",
       "    <tr>\n",
       "      <th>2642811</th>\n",
       "      <td>Hospital</td>\n",
       "      <td>20.0</td>\n",
       "      <td>União estável</td>\n",
       "      <td>1.0</td>\n",
       "      <td>0.0</td>\n",
       "      <td>1.0</td>\n",
       "      <td>Vaginal</td>\n",
       "      <td>3.0</td>\n",
       "      <td>2</td>\n",
       "      <td>3885.0</td>\n",
       "      <td>...</td>\n",
       "      <td>Não se aplica</td>\n",
       "      <td>Médico</td>\n",
       "      <td>Médico</td>\n",
       "      <td>0.0</td>\n",
       "      <td>1.0</td>\n",
       "      <td>Multípara</td>\n",
       "      <td>4.0</td>\n",
       "      <td>Grande</td>\n",
       "      <td>Não Prematuro</td>\n",
       "      <td>0.803</td>\n",
       "    </tr>\n",
       "  </tbody>\n",
       "</table>\n",
       "<p>2642812 rows × 31 columns</p>\n",
       "</div>"
      ],
      "text/plain": [
       "                 LOCNASC  IDADEMAE                          ESTCIVMAE  \\\n",
       "0        Aldeia Indígena      23.0                           Solteira   \n",
       "1               Hospital      42.0                           Solteira   \n",
       "2               Hospital      38.0  Separada judicialmente/divorciada   \n",
       "3               Hospital      23.0                           Solteira   \n",
       "4               Hospital      23.0                           Solteira   \n",
       "...                  ...       ...                                ...   \n",
       "2642807         Hospital      22.0                           Solteira   \n",
       "2642808         Hospital      22.0                           Solteira   \n",
       "2642809         Hospital      28.0                             Casada   \n",
       "2642810         Hospital      40.0                             Casada   \n",
       "2642811         Hospital      20.0                      União estável   \n",
       "\n",
       "         QTDFILVIVO  QTDFILMORT  GRAVIDEZ    PARTO  CONSULTAS  SEXO    PESO  \\\n",
       "0               4.0         NaN       1.0  Vaginal        2.0     1  3400.0   \n",
       "1               8.0         1.0       1.0  Vaginal        4.0     1  3475.0   \n",
       "2               1.0         0.0       1.0  Vaginal        4.0     2  2445.0   \n",
       "3               1.0         0.0       1.0  Cesário        4.0     1  3405.0   \n",
       "4               1.0         0.0       1.0  Cesário        3.0     1  3160.0   \n",
       "...             ...         ...       ...      ...        ...   ...     ...   \n",
       "2642807         2.0         0.0       1.0  Vaginal        4.0     2  2896.0   \n",
       "2642808         1.0         0.0       1.0  Vaginal        4.0     1  2905.0   \n",
       "2642809         0.0         0.0       1.0  Cesário        4.0     2  3428.0   \n",
       "2642810         2.0         0.0       1.0  Cesário        4.0     1  3185.0   \n",
       "2642811         1.0         0.0       1.0  Vaginal        3.0     2  3885.0   \n",
       "\n",
       "         ...     STCESPARTO               TPNASCASSI               TPFUNCRESP  \\\n",
       "0        ...  Não se aplica                   Outros                   Outros   \n",
       "1        ...  Não se aplica                   Médico               Enfermeiro   \n",
       "2        ...  Não se aplica                   Médico                   Outros   \n",
       "3        ...            Sim                   Médico               Enfermeiro   \n",
       "4        ...            Não                   Médico                   Outros   \n",
       "...      ...            ...                      ...                      ...   \n",
       "2642807  ...  Não se aplica                   Médico               Enfermeiro   \n",
       "2642808  ...  Não se aplica  Enfermagem ou Obstetriz               Enfermeiro   \n",
       "2642809  ...            Não                   Médico               Enfermeiro   \n",
       "2642810  ...            Não                   Médico  Funcionário do cartório   \n",
       "2642811  ...  Não se aplica                   Médico                   Médico   \n",
       "\n",
       "         STDNEPIDEM  STDNNOVA   PARIDADE KOTELCHUCK       Porte  \\\n",
       "0               0.0       1.0  Multípara        2.0   Pequeno I   \n",
       "1               0.0       1.0  Multípara        5.0  Pequeno II   \n",
       "2               0.0       1.0  Multípara        5.0      Grande   \n",
       "3               0.0       1.0  Multípara        5.0   Metrópole   \n",
       "4               0.0       1.0  Multípara        3.0      Grande   \n",
       "...             ...       ...        ...        ...         ...   \n",
       "2642807         0.0       1.0  Multípara        5.0      Grande   \n",
       "2642808         0.0       1.0  Multípara        5.0  Pequeno II   \n",
       "2642809         0.0       1.0   Nulípara        5.0   Metrópole   \n",
       "2642810         0.0       1.0  Multípara        5.0   Metrópole   \n",
       "2642811         0.0       1.0  Multípara        4.0      Grande   \n",
       "\n",
       "              GESTACAO    IDH  \n",
       "0        Não Prematuro  0.739  \n",
       "1            Prematuro  0.724  \n",
       "2            Prematuro  0.792  \n",
       "3        Não Prematuro  0.785  \n",
       "4        Não Prematuro  0.760  \n",
       "...                ...    ...  \n",
       "2642807  Não Prematuro  0.787  \n",
       "2642808  Não Prematuro  0.755  \n",
       "2642809  Não Prematuro  0.758  \n",
       "2642810  Não Prematuro  0.785  \n",
       "2642811  Não Prematuro  0.803  \n",
       "\n",
       "[2642812 rows x 31 columns]"
      ]
     },
     "execution_count": 5,
     "metadata": {},
     "output_type": "execute_result"
    }
   ],
   "source": [
    "# clean and treat the data here\n",
    "df.drop(['Unnamed: 0', 'UF', 'Município', 'ESTADO'], axis = 1)"
   ]
  },
  {
   "cell_type": "code",
   "execution_count": null,
   "metadata": {},
   "outputs": [],
   "source": []
  },
  {
   "cell_type": "code",
   "execution_count": null,
   "metadata": {
    "colab": {},
    "colab_type": "code",
    "id": "Y7WshR3nmZkL",
    "pycharm": {
     "name": "#%%\n"
    }
   },
   "outputs": [],
   "source": [
    "# use as many code and text cells you wish"
   ]
  },
  {
   "cell_type": "markdown",
   "metadata": {
    "collapsed": false
   },
   "source": [
    "# General Characteristics"
   ]
  },
  {
   "cell_type": "markdown",
   "metadata": {
    "collapsed": false
   },
   "source": [
    "In this section, you should report the main dataset chracteristics, including but not limited to:\n",
    "* Number of instances\n",
    "* Number of features\n",
    "* Number of classes\n",
    "* Class distribution"
   ]
  },
  {
   "cell_type": "code",
   "execution_count": 7,
   "metadata": {
    "collapsed": false
   },
   "outputs": [
    {
     "name": "stdout",
     "output_type": "stream",
     "text": [
      "The dataset has 2642812 instances and 34 features\n"
     ]
    }
   ],
   "source": [
    "# use as many code and text cells you wish\n",
    "shape = df.shape\n",
    "\n",
    "print(f\"The dataset has {shape[0]} instances and {shape[1] - 1} features\")"
   ]
  },
  {
   "cell_type": "code",
   "execution_count": null,
   "metadata": {},
   "outputs": [],
   "source": []
  },
  {
   "cell_type": "markdown",
   "metadata": {
    "colab_type": "text",
    "id": "xX9sOXW1gOCU",
    "pycharm": {
     "name": "#%% md\n"
    }
   },
   "source": [
    "# Univariate data analysis"
   ]
  },
  {
   "cell_type": "markdown",
   "metadata": {
    "colab_type": "text",
    "id": "EQljrblLzQQz",
    "pycharm": {
     "name": "#%% md\n"
    }
   },
   "source": [
    "In this section, you should perform univariate data analysis on at least 20 variables. \n",
    "\n",
    "In the end, you should describe the main variables that are of your interest, and these should be accounted for in the next sections of the report.\n",
    "The definition of each variable chosen should be clarified, so arbitrary selections are **not** accepted at this point.\n",
    "\n",
    "For each variable plotted, make sure you determine the following:\n",
    "1. The distribution of the data (gaussian, binomial, exponential, etc)\n",
    "2. Skew\n",
    "3. Kurtosis\n",
    "4. Mean, standard deviation, and what they stand for in the context of the dataset\n",
    "\n",
    "Regardless of the type of the variable being analyzed, make sure you plot it correctly. For instance, make sure scatterplots are not used for categorical data and so forth."
   ]
  },
  {
   "cell_type": "code",
   "execution_count": null,
   "metadata": {
    "colab": {},
    "colab_type": "code",
    "id": "BWS2-FMfgWJR",
    "pycharm": {
     "name": "#%%\n"
    }
   },
   "outputs": [],
   "source": [
    "# place as many cells to plot the visualizations, \n",
    "# as well as to describe the main findings"
   ]
  },
  {
   "cell_type": "code",
   "execution_count": null,
   "metadata": {
    "colab": {},
    "colab_type": "code",
    "id": "zACQ5EROmhM5",
    "pycharm": {
     "name": "#%%\n"
    }
   },
   "outputs": [],
   "source": [
    "# if you realize you need to further clean your data here, there is no problem, \n",
    "# yet, make sure you are describing the entire process and the rationale \n",
    "# behind your choices here"
   ]
  },
  {
   "cell_type": "markdown",
   "metadata": {
    "colab_type": "text",
    "id": "cAVrOW1tgQU7",
    "pycharm": {
     "name": "#%% md\n"
    }
   },
   "source": [
    "# Multivariate data analysis"
   ]
  },
  {
   "cell_type": "markdown",
   "metadata": {
    "colab_type": "text",
    "id": "jD7VaU40z_sN",
    "pycharm": {
     "name": "#%% md\n"
    }
   },
   "source": [
    "In this section, you should plot at least 8 multivariate visualizations. The key here is to investigate underlying correlations and behaviors in the dataset.\n",
    "Naturally, as visualizations are being created, we should end up with obvious results, yet, you should find at least **TWO** non-obvious behavior in data.\n",
    "\n",
    "Please follow these steps for creating your visualizations:\n",
    "1. State an hypothesis. The key here is to explain why you are choosing those specific variables together and what you are expecting to find.\n",
    "2. Determine what kind of visualization is the most suited.\n",
    "3. Report the findings and whether they corroborate or not the aforestated hypothesis.\n",
    "\n",
    "\n",
    "### Hints\n",
    "\n",
    "In this section, make sure you go beyond naive explorations. For instance, try PCA, t-SNE, and even other techniques we have not worked with during the lectures. The key here is to start to develop a critical mindset towards data analysis and our own work.\n",
    "\n",
    "### Important\n",
    "\n",
    "It is strictly forbidden to create multivariate visualizations using variables that were not used in the previous section (univariate analysis)."
   ]
  },
  {
   "cell_type": "code",
   "execution_count": null,
   "metadata": {
    "colab": {},
    "colab_type": "code",
    "id": "fp4ct7TngWmF",
    "pycharm": {
     "name": "#%%\n"
    }
   },
   "outputs": [],
   "source": [
    "# again, feel free to place as many cells to plot the visualizations, \n",
    "# as well as describe to the main findings"
   ]
  },
  {
   "cell_type": "markdown",
   "metadata": {
    "colab_type": "text",
    "id": "ehWz8rAcgZ0c",
    "pycharm": {
     "name": "#%% md\n"
    }
   },
   "source": [
    "# Final Plots"
   ]
  },
  {
   "cell_type": "markdown",
   "metadata": {
    "colab_type": "text",
    "id": "OHyF3RvU2q9r",
    "pycharm": {
     "name": "#%% md\n"
    }
   },
   "source": [
    "In this section, you need to enhance 3 multivariate visualizations that were presented in the previous section of the report.\n",
    "The key here is to enhance these visualizations with the goal of presenting them for an audience that is not familiar with the dataset used or with data analysis.\n",
    "**Therefore, make sure that its size, colors, textures, etc, are appropriate are convey the right information to the audience.**\n",
    "\n",
    "For your final plots, make sure you follow these steps:\n",
    "1. Present the plot\n",
    "2. Provide a description of the visualization, including the main findings that we can extract from it\n",
    "\n",
    "\n",
    "**Hint: take a look at the checklist also made available based on the work of Evergreen.**"
   ]
  },
  {
   "cell_type": "code",
   "execution_count": null,
   "metadata": {
    "colab": {},
    "colab_type": "code",
    "id": "K90_0h6JgfnW",
    "pycharm": {
     "name": "#%%\n"
    }
   },
   "outputs": [],
   "source": [
    "# your code goes here"
   ]
  },
  {
   "cell_type": "markdown",
   "metadata": {
    "colab_type": "text",
    "id": "Ua7B5nTmgbN7",
    "pycharm": {
     "name": "#%% md\n"
    }
   },
   "source": [
    "# Digest"
   ]
  },
  {
   "cell_type": "markdown",
   "metadata": {
    "colab_type": "text",
    "id": "YJ0cqdoj4Lg7",
    "pycharm": {
     "name": "#%% md\n"
    }
   },
   "source": [
    "In this section you should write down all the main findings of this exploratory data analysis. Furthermore, you should provide a reflection about your own work and effort during the module, highlighting what you believe you have done well and what you should have done differently. This digest should have at least 2500 characters (no spaces)."
   ]
  },
  {
   "cell_type": "markdown",
   "metadata": {
    "colab_type": "text",
    "id": "NQWFN0TEPUzp",
    "pycharm": {
     "name": "#%% md\n"
    }
   },
   "source": [
    "```\n",
    "Add your text here.\n",
    "```"
   ]
  },
  {
   "cell_type": "markdown",
   "metadata": {
    "colab_type": "text",
    "id": "_CaFQEil1F6Q",
    "pycharm": {
     "name": "#%% md\n"
    }
   },
   "source": [
    "# Final Steps\n"
   ]
  },
  {
   "cell_type": "markdown",
   "metadata": {
    "colab_type": "text",
    "id": "a2R5Kily1H7f",
    "pycharm": {
     "name": "#%% md\n"
    }
   },
   "source": [
    "1. Save this report as a jupyter notebook (`.ipynb`)\n",
    "2. Save a copy of this report as a PDF file (`.pdf`)\n",
    "3. Copy the dataset\n",
    "4. Zip it all together within a single file (`<your_team_name>.zip`)\n",
    "5. Send it over using Blackboard."
   ]
  },
  {
   "cell_type": "code",
   "execution_count": null,
   "metadata": {
    "pycharm": {
     "name": "#%%\n"
    }
   },
   "outputs": [],
   "source": []
  }
 ],
 "metadata": {
  "accelerator": "GPU",
  "colab": {
   "collapsed_sections": [],
   "name": "PPGIa_template_data_science.ipynb",
   "provenance": [],
   "toc_visible": true
  },
  "kernelspec": {
   "display_name": "Python 3",
   "language": "python",
   "name": "python3"
  },
  "language_info": {
   "codemirror_mode": {
    "name": "ipython",
    "version": 3
   },
   "file_extension": ".py",
   "mimetype": "text/x-python",
   "name": "python",
   "nbconvert_exporter": "python",
   "pygments_lexer": "ipython3",
   "version": "3.9.12"
  }
 },
 "nbformat": 4,
 "nbformat_minor": 1
}
