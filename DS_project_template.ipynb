{
 "cells": [
  {
   "cell_type": "markdown",
   "metadata": {
    "colab_type": "text",
    "id": "WwufnHfvfSwv",
    "pycharm": {
     "name": "#%% md\n"
    }
   },
   "source": [
    "# Final Report - Data Science \n",
    "## Bachelor in Computer Science / PUCPR\n",
    "\n",
    "Professor Jean Paul Barddal\n",
    "\n",
    "Daniel Nowak Assis - daniel.nowak@pucpr.edu.br\n",
    "\n",
    "Enzo Ramon Campa - colocar email\n",
    "\n",
    "Leandro Ceron Durau - colocar email\n",
    "\n",
    "Ivson Soares (Completar nome) - colocar email\n",
    "\n",
    "2023"
   ]
  },
  {
   "cell_type": "markdown",
   "metadata": {
    "colab_type": "text",
    "id": "68-F6cD9VL-J",
    "pycharm": {
     "name": "#%% md\n"
    }
   },
   "source": [
    "# Import the libs you need"
   ]
  },
  {
   "cell_type": "code",
   "execution_count": 1,
   "metadata": {
    "colab": {},
    "colab_type": "code",
    "id": "itrIGnaaVQnH",
    "pycharm": {
     "name": "#%%\n"
    }
   },
   "outputs": [],
   "source": [
    "# Import all packages you need here\n",
    "import pandas as pd\n",
    "import numpy as np\n",
    "import seaborn as sns\n",
    "# etc"
   ]
  },
  {
   "cell_type": "markdown",
   "metadata": {
    "colab_type": "text",
    "id": "kTP1pmiPgDY_",
    "pycharm": {
     "name": "#%% md\n"
    }
   },
   "source": [
    "# Loading your data"
   ]
  },
  {
   "cell_type": "markdown",
   "metadata": {
    "colab_type": "text",
    "id": "DIRXQ53th3am",
    "pycharm": {
     "name": "#%% md\n"
    }
   },
   "source": [
    "Below, load the data using pandas and make all the necessary data cleansing so that all data types are correct for posterior analysis."
   ]
  },
  {
   "cell_type": "code",
   "execution_count": 2,
   "metadata": {
    "colab": {},
    "colab_type": "code",
    "id": "-VCzmIHcgA2P",
    "pycharm": {
     "name": "#%%\n"
    }
   },
   "outputs": [],
   "source": [
    "# load your data here\n",
    "df = pd.read_csv('./sinasc_checkpoint.csv')"
   ]
  },
  {
   "cell_type": "code",
   "execution_count": 8,
   "metadata": {
    "colab": {},
    "colab_type": "code",
    "id": "Zpe46g9NiAy5",
    "pycharm": {
     "name": "#%%\n"
    }
   },
   "outputs": [],
   "source": [
    "# clean and treat the data here\n",
    "df = df.drop(['Unnamed: 0', 'UF', 'Município', 'ESTADO'], axis = 1)\n"
   ]
  },
  {
   "cell_type": "code",
   "execution_count": null,
   "metadata": {},
   "outputs": [],
   "source": []
  },
  {
   "cell_type": "code",
   "execution_count": null,
   "metadata": {
    "colab": {},
    "colab_type": "code",
    "id": "Y7WshR3nmZkL",
    "pycharm": {
     "name": "#%%\n"
    }
   },
   "outputs": [],
   "source": [
    "# use as many code and text cells you wish"
   ]
  },
  {
   "cell_type": "markdown",
   "metadata": {
    "collapsed": false
   },
   "source": [
    "# General Characteristics"
   ]
  },
  {
   "cell_type": "markdown",
   "metadata": {
    "collapsed": false
   },
   "source": [
    "In this section, you should report the main dataset chracteristics, including but not limited to:\n",
    "* Number of instances\n",
    "* Number of features\n",
    "* Number of classes\n",
    "* Class distribution"
   ]
  },
  {
   "cell_type": "code",
   "execution_count": 11,
   "metadata": {
    "collapsed": false
   },
   "outputs": [
    {
     "name": "stdout",
     "output_type": "stream",
     "text": [
      "The dataset has 2642812 instances and 30 features\n"
     ]
    }
   ],
   "source": [
    "# use as many code and text cells you wish\n",
    "shape = df.shape\n",
    "print(f\"The dataset has {shape[0]} instances and {shape[1] - 1} features\")"
   ]
  },
  {
   "cell_type": "code",
   "execution_count": 12,
   "metadata": {},
   "outputs": [
    {
     "name": "stdout",
     "output_type": "stream",
     "text": [
      "The dataset has 2 classes\n"
     ]
    }
   ],
   "source": [
    "print(f\"The dataset has {df['GESTACAO'].nunique()} classes\")"
   ]
  },
  {
   "cell_type": "code",
   "execution_count": 19,
   "metadata": {},
   "outputs": [
    {
     "name": "stdout",
     "output_type": "stream",
     "text": [
      "class 0 has 2339162 samples and class 1 has 303650 samples\n"
     ]
    }
   ],
   "source": [
    "value_counts = df['GESTACAO'].value_counts()\n",
    "print(f\"class 0 has {value_counts[0]} samples and class 1 has {value_counts[1]} samples\")"
   ]
  },
  {
   "cell_type": "markdown",
   "metadata": {
    "colab_type": "text",
    "id": "xX9sOXW1gOCU",
    "pycharm": {
     "name": "#%% md\n"
    }
   },
   "source": [
    "# Univariate data analysis"
   ]
  },
  {
   "cell_type": "markdown",
   "metadata": {
    "colab_type": "text",
    "id": "EQljrblLzQQz",
    "pycharm": {
     "name": "#%% md\n"
    }
   },
   "source": [
    "In this section, you should perform univariate data analysis on at least 20 variables. \n",
    "\n",
    "In the end, you should describe the main variables that are of your interest, and these should be accounted for in the next sections of the report.\n",
    "The definition of each variable chosen should be clarified, so arbitrary selections are **not** accepted at this point.\n",
    "\n",
    "For each variable plotted, make sure you determine the following:\n",
    "1. The distribution of the data (gaussian, binomial, exponential, etc)\n",
    "2. Skew\n",
    "3. Kurtosis\n",
    "4. Mean, standard deviation, and what they stand for in the context of the dataset\n",
    "\n",
    "Regardless of the type of the variable being analyzed, make sure you plot it correctly. For instance, make sure scatterplots are not used for categorical data and so forth."
   ]
  },
  {
   "cell_type": "code",
   "execution_count": null,
   "metadata": {
    "colab": {},
    "colab_type": "code",
    "id": "BWS2-FMfgWJR",
    "pycharm": {
     "name": "#%%\n"
    }
   },
   "outputs": [],
   "source": [
    "# place as many cells to plot the visualizations, \n",
    "# as well as to describe the main findings"
   ]
  },
  {
   "cell_type": "code",
   "execution_count": null,
   "metadata": {
    "colab": {},
    "colab_type": "code",
    "id": "zACQ5EROmhM5",
    "pycharm": {
     "name": "#%%\n"
    }
   },
   "outputs": [],
   "source": [
    "# if you realize you need to further clean your data here, there is no problem, \n",
    "# yet, make sure you are describing the entire process and the rationale \n",
    "# behind your choices here"
   ]
  },
  {
   "cell_type": "markdown",
   "metadata": {
    "colab_type": "text",
    "id": "cAVrOW1tgQU7",
    "pycharm": {
     "name": "#%% md\n"
    }
   },
   "source": [
    "# Multivariate data analysis"
   ]
  },
  {
   "cell_type": "markdown",
   "metadata": {
    "colab_type": "text",
    "id": "jD7VaU40z_sN",
    "pycharm": {
     "name": "#%% md\n"
    }
   },
   "source": [
    "In this section, you should plot at least 8 multivariate visualizations. The key here is to investigate underlying correlations and behaviors in the dataset.\n",
    "Naturally, as visualizations are being created, we should end up with obvious results, yet, you should find at least **TWO** non-obvious behavior in data.\n",
    "\n",
    "Please follow these steps for creating your visualizations:\n",
    "1. State an hypothesis. The key here is to explain why you are choosing those specific variables together and what you are expecting to find.\n",
    "2. Determine what kind of visualization is the most suited.\n",
    "3. Report the findings and whether they corroborate or not the aforestated hypothesis.\n",
    "\n",
    "\n",
    "### Hints\n",
    "\n",
    "In this section, make sure you go beyond naive explorations. For instance, try PCA, t-SNE, and even other techniques we have not worked with during the lectures. The key here is to start to develop a critical mindset towards data analysis and our own work.\n",
    "\n",
    "### Important\n",
    "\n",
    "It is strictly forbidden to create multivariate visualizations using variables that were not used in the previous section (univariate analysis)."
   ]
  },
  {
   "cell_type": "code",
   "execution_count": null,
   "metadata": {
    "colab": {},
    "colab_type": "code",
    "id": "fp4ct7TngWmF",
    "pycharm": {
     "name": "#%%\n"
    }
   },
   "outputs": [],
   "source": [
    "# again, feel free to place as many cells to plot the visualizations, \n",
    "# as well as describe to the main findings"
   ]
  },
  {
   "cell_type": "markdown",
   "metadata": {
    "colab_type": "text",
    "id": "ehWz8rAcgZ0c",
    "pycharm": {
     "name": "#%% md\n"
    }
   },
   "source": [
    "# Final Plots"
   ]
  },
  {
   "cell_type": "markdown",
   "metadata": {
    "colab_type": "text",
    "id": "OHyF3RvU2q9r",
    "pycharm": {
     "name": "#%% md\n"
    }
   },
   "source": [
    "In this section, you need to enhance 3 multivariate visualizations that were presented in the previous section of the report.\n",
    "The key here is to enhance these visualizations with the goal of presenting them for an audience that is not familiar with the dataset used or with data analysis.\n",
    "**Therefore, make sure that its size, colors, textures, etc, are appropriate are convey the right information to the audience.**\n",
    "\n",
    "For your final plots, make sure you follow these steps:\n",
    "1. Present the plot\n",
    "2. Provide a description of the visualization, including the main findings that we can extract from it\n",
    "\n",
    "\n",
    "**Hint: take a look at the checklist also made available based on the work of Evergreen.**"
   ]
  },
  {
   "cell_type": "code",
   "execution_count": null,
   "metadata": {
    "colab": {},
    "colab_type": "code",
    "id": "K90_0h6JgfnW",
    "pycharm": {
     "name": "#%%\n"
    }
   },
   "outputs": [],
   "source": [
    "# your code goes here"
   ]
  },
  {
   "cell_type": "markdown",
   "metadata": {
    "colab_type": "text",
    "id": "Ua7B5nTmgbN7",
    "pycharm": {
     "name": "#%% md\n"
    }
   },
   "source": [
    "# Digest"
   ]
  },
  {
   "cell_type": "markdown",
   "metadata": {
    "colab_type": "text",
    "id": "YJ0cqdoj4Lg7",
    "pycharm": {
     "name": "#%% md\n"
    }
   },
   "source": [
    "In this section you should write down all the main findings of this exploratory data analysis. Furthermore, you should provide a reflection about your own work and effort during the module, highlighting what you believe you have done well and what you should have done differently. This digest should have at least 2500 characters (no spaces)."
   ]
  },
  {
   "cell_type": "markdown",
   "metadata": {
    "colab_type": "text",
    "id": "NQWFN0TEPUzp",
    "pycharm": {
     "name": "#%% md\n"
    }
   },
   "source": [
    "```\n",
    "Add your text here.\n",
    "```"
   ]
  },
  {
   "cell_type": "markdown",
   "metadata": {
    "colab_type": "text",
    "id": "_CaFQEil1F6Q",
    "pycharm": {
     "name": "#%% md\n"
    }
   },
   "source": [
    "# Final Steps\n"
   ]
  },
  {
   "cell_type": "markdown",
   "metadata": {
    "colab_type": "text",
    "id": "a2R5Kily1H7f",
    "pycharm": {
     "name": "#%% md\n"
    }
   },
   "source": [
    "1. Save this report as a jupyter notebook (`.ipynb`)\n",
    "2. Save a copy of this report as a PDF file (`.pdf`)\n",
    "3. Copy the dataset\n",
    "4. Zip it all together within a single file (`<your_team_name>.zip`)\n",
    "5. Send it over using Blackboard."
   ]
  },
  {
   "cell_type": "code",
   "execution_count": null,
   "metadata": {
    "pycharm": {
     "name": "#%%\n"
    }
   },
   "outputs": [],
   "source": []
  }
 ],
 "metadata": {
  "accelerator": "GPU",
  "colab": {
   "collapsed_sections": [],
   "name": "PPGIa_template_data_science.ipynb",
   "provenance": [],
   "toc_visible": true
  },
  "kernelspec": {
   "display_name": "Python 3",
   "language": "python",
   "name": "python3"
  },
  "language_info": {
   "codemirror_mode": {
    "name": "ipython",
    "version": 3
   },
   "file_extension": ".py",
   "mimetype": "text/x-python",
   "name": "python",
   "nbconvert_exporter": "python",
   "pygments_lexer": "ipython3",
   "version": "3.9.12"
  }
 },
 "nbformat": 4,
 "nbformat_minor": 1
}
