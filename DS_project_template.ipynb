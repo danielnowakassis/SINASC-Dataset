{
 "cells": [
  {
   "cell_type": "markdown",
   "metadata": {
    "colab_type": "text",
    "id": "WwufnHfvfSwv",
    "pycharm": {
     "name": "#%% md\n"
    }
   },
   "source": [
    "# Final Report - Data Science \n",
    "## Bachelor in Computer Science / PUCPR\n",
    "\n",
    "Professor Jean Paul Barddal\n",
    "\n",
    "Daniel Nowak Assis - daniel.nowak@pucpr.edu.br\n",
    "\n",
    "Enzo Ramon Campa - enzo.campa@pucpr.edu.br\n",
    "\n",
    "Leandro Ceron Durau -\n",
    "\n",
    "Ivson Soares Ferreira Junior - ivson.junior@pucpr.edu.br\n",
    "\n",
    "2023"
   ]
  },
  {
   "cell_type": "markdown",
   "metadata": {
    "colab_type": "text",
    "id": "68-F6cD9VL-J",
    "pycharm": {
     "name": "#%% md\n"
    }
   },
   "source": [
    "# Import the libs you need"
   ]
  },
  {
   "cell_type": "code",
   "execution_count": 1,
   "metadata": {
    "colab": {},
    "colab_type": "code",
    "id": "itrIGnaaVQnH",
    "pycharm": {
     "name": "#%%\n"
    }
   },
   "outputs": [],
   "source": [
    "# Import all packages you need here\n",
    "import pandas as pd\n",
    "import numpy as np\n",
    "import seaborn as sns\n",
    "import random\n",
    "import matplotlib.pyplot as plt\n",
    "import json\n",
    "import sys\n",
    "import json\n",
    "\n",
    "\n",
    "#pd.set_option(\"display.max_colwidth\", None)\n",
    "#pd.set_option(\"display.max_columns\", None)\n",
    "#sys.path.append(\"./\")\n",
    "# etc"
   ]
  },
  {
   "cell_type": "markdown",
   "metadata": {
    "colab_type": "text",
    "id": "kTP1pmiPgDY_",
    "pycharm": {
     "name": "#%% md\n"
    }
   },
   "source": [
    "# Loading your data"
   ]
  },
  {
   "cell_type": "markdown",
   "metadata": {
    "colab_type": "text",
    "id": "DIRXQ53th3am",
    "pycharm": {
     "name": "#%% md\n"
    }
   },
   "source": [
    "Below, load the data using pandas and make all the necessary data cleansing so that all data types are correct for posterior analysis."
   ]
  },
  {
   "cell_type": "markdown",
   "metadata": {},
   "source": [
    "\n",
    "### Carregamento das Bases\n",
    "- 1. Dicionário de Dados da Base Sinasc\n",
    "- 2. Sinasc\n",
    "- 3. IBGE 2010"
   ]
  },
  {
   "cell_type": "code",
   "execution_count": 2,
   "metadata": {
    "colab": {},
    "colab_type": "code",
    "id": "-VCzmIHcgA2P",
    "pycharm": {
     "name": "#%%\n"
    }
   },
   "outputs": [],
   "source": [
    "# load your data here\n",
    "full_df = pd.read_csv(\"./sinasc_checkpoint.csv\")"
   ]
  },
  {
   "cell_type": "code",
   "execution_count": 3,
   "metadata": {},
   "outputs": [],
   "source": [
    "#print(full_df.columns)\n",
    "full_df = full_df.drop(['Unnamed: 0','UF', 'Município', 'ESTADO'], axis= 1)\n"
   ]
  },
  {
   "cell_type": "markdown",
   "metadata": {
    "collapsed": false
   },
   "source": [
    "# General Characteristics"
   ]
  },
  {
   "cell_type": "markdown",
   "metadata": {
    "collapsed": false
   },
   "source": [
    "In this section, you should report the main dataset chracteristics, including but not limited to:\n",
    "* Number of instances\n",
    "* Number of features\n",
    "* Number of classes\n",
    "* Class distribution"
   ]
  },
  {
   "cell_type": "markdown",
   "metadata": {},
   "source": [
    "## Contexto da Base de Dados"
   ]
  },
  {
   "cell_type": "markdown",
   "metadata": {},
   "source": [
    "Esse dataset engloba ocorrencias de dados de partos que ocorreram no SUS no ano de 2021, em que contêm dados sobre a mãe, o recém nascido e fatores socio-econômicos. O target é relacionado a prematuridade (se o recém nascido é prematuro ou não)"
   ]
  },
  {
   "cell_type": "code",
   "execution_count": 4,
   "metadata": {
    "collapsed": false
   },
   "outputs": [
    {
     "name": "stdout",
     "output_type": "stream",
     "text": [
      "O dataset tem 2642812 instâncias e 30 atributos (sem o target)\n"
     ]
    }
   ],
   "source": [
    "# use as many code and text cells you wish\n",
    "shape = full_df.shape\n",
    "print(f\"O dataset tem {shape[0]} instâncias e {shape[1] - 1} atributos (sem o target)\")"
   ]
  },
  {
   "cell_type": "code",
   "execution_count": 5,
   "metadata": {},
   "outputs": [
    {
     "name": "stdout",
     "output_type": "stream",
     "text": [
      "O dataset tem 2 classes\n"
     ]
    }
   ],
   "source": [
    "print(f\"O dataset tem {full_df['GESTACAO'].nunique()} classes\")"
   ]
  },
  {
   "cell_type": "code",
   "execution_count": 6,
   "metadata": {},
   "outputs": [
    {
     "name": "stdout",
     "output_type": "stream",
     "text": [
      "classe 0 tem 2339162 exemplos e a classe 1 tem 303650 exemplos\n"
     ]
    }
   ],
   "source": [
    "value_counts = full_df['GESTACAO'].value_counts()\n",
    "print(f\"classe 0 tem {value_counts[0]} exemplos e a classe 1 tem {value_counts[1]} exemplos\")"
   ]
  },
  {
   "cell_type": "code",
   "execution_count": 112,
   "metadata": {},
   "outputs": [
    {
     "name": "stdout",
     "output_type": "stream",
     "text": [
      "De todos os valores de todas as features, 3.6999999999999997% dos valores são faltantes\n"
     ]
    }
   ],
   "source": [
    "print(\"De todos os valores de todas as features, \",end = \"\")\n",
    "print(f\"{100 * round(full_df.isna().sum().sum() / (shape[0] * shape[1]),3)}% dos valores são faltantes\")"
   ]
  },
  {
   "cell_type": "markdown",
   "metadata": {},
   "source": [
    "## DESCRIÇÃO DE 10 ATRIBUTOS\n",
    "\n",
    "1. LOCNASC : Local onde ocorreu o parto, podendo ser em hospital, outros estabelecimentos de saúde, domicílio, outros e Aldeia Indígena.\n",
    "\n",
    "2. IDADEMAE : Idade da mãe no momento em que ocorreu o parto\n",
    "\n",
    "3. GESTACAO : Indica se o recém-nascido é prematuro ou não\n",
    "\n",
    "4. PESO : Peso do recém nascido\n",
    "\n",
    "5. KOTELCHUCK : Índice de Kotelchuck. É um indice na área da saúde para mensurar a qualidade da consulta pré-natal dado o mês de gestação em que iniciaram o pré-natal\n",
    "\n",
    "6. ESCMAE2010 : Escolaridade da mãe em relação a classificação de 2010, podendo ser : Sem Escolaridade, Fundamental I Incompleto, Fundamental I Completo, Fundamental II Incompleto, Fundamental II Completo, Ensino Médio Incompleto, Ensino Médio Completo, Superior Incompleto, Superior Completo, Ignorado, \n",
    "Fundamental I Incompleto ou Inespecífico, Fundamental II Incompleto ou\n",
    "Inespecífico, Ensino Médio Incompleto ou Inespecífico.\n",
    "\n",
    "7. TPFUNCRESP : Funcionário responsável pela anotação dos dados\n",
    "\n",
    "8. PARIDADE : Indica se a mãe já teve gravidez anterior\n",
    "\n",
    "9. CONSULTAS : Número de consultas de pré‐natal realizadas pela mãe.\n",
    "\n",
    "10. PARTO : Tipo de parto: podendo ser vaginal ou cesário."
   ]
  },
  {
   "cell_type": "markdown",
   "metadata": {
    "colab_type": "text",
    "id": "xX9sOXW1gOCU",
    "pycharm": {
     "name": "#%% md\n"
    }
   },
   "source": [
    "# Univariate data analysis"
   ]
  },
  {
   "cell_type": "markdown",
   "metadata": {
    "colab_type": "text",
    "id": "EQljrblLzQQz",
    "pycharm": {
     "name": "#%% md\n"
    }
   },
   "source": [
    "In this section, you should perform univariate data analysis on at least 20 variables. \n",
    "\n",
    "In the end, you should describe the main variables that are of your interest, and these should be accounted for in the next sections of the report.\n",
    "The definition of each variable chosen should be clarified, so arbitrary selections are **not** accepted at this point.\n",
    "\n",
    "For each variable plotted, make sure you determine the following:\n",
    "1. The distribution of the data (gaussian, binomial, exponential, etc)\n",
    "2. Skew\n",
    "3. Kurtosis\n",
    "4. Mean, standard deviation, and what they stand for in the context of the dataset\n",
    "\n",
    "Regardless of the type of the variable being analyzed, make sure you plot it correctly. For instance, make sure scatterplots are not used for categorical data and so forth."
   ]
  },
  {
   "cell_type": "code",
   "execution_count": 7,
   "metadata": {
    "colab": {},
    "colab_type": "code",
    "id": "BWS2-FMfgWJR",
    "pycharm": {
     "name": "#%%\n"
    }
   },
   "outputs": [],
   "source": [
    "# place as many cells to plot the visualizations, \n",
    "# as well as to describe the main findings"
   ]
  },
  {
   "cell_type": "markdown",
   "metadata": {},
   "source": [
    "### DANIEL "
   ]
  },
  {
   "cell_type": "markdown",
   "metadata": {},
   "source": [
    "## 1. Qual é a distribuição de pesos dos recém-nascidos?"
   ]
  },
  {
   "cell_type": "code",
   "execution_count": 8,
   "metadata": {},
   "outputs": [
    {
     "data": {
      "text/plain": [
       "<AxesSubplot:xlabel='PESO'>"
      ]
     },
     "execution_count": 8,
     "metadata": {},
     "output_type": "execute_result"
    },
    {
     "data": {
      "image/png": "[encoded data removed]",
      "text/plain": [
       "<Figure size 432x288 with 1 Axes>"
      ]
     },
     "metadata": {
      "needs_background": "light"
     },
     "output_type": "display_data"
    }
   ],
   "source": [
    "peso_feto = full_df['PESO']\n",
    "#print(peso_feto.head())\n",
    "sns.violinplot(x = peso_feto)"
   ]
  },
  {
   "cell_type": "markdown",
   "metadata": {},
   "source": [
    "Aparentemente segue uma curva normal, porém é perceptivel são mais esparsos para valores mais baixos como 2000 e abaixo comparado a densidade presente no lado direito."
   ]
  },
  {
   "cell_type": "code",
   "execution_count": 9,
   "metadata": {},
   "outputs": [],
   "source": [
    "#peso_feto.plot(kind='density')"
   ]
  },
  {
   "cell_type": "code",
   "execution_count": 10,
   "metadata": {},
   "outputs": [
    {
     "data": {
      "text/plain": [
       "count    2.642374e+06\n",
       "mean     3.178913e+03\n",
       "std      5.631564e+02\n",
       "min      3.000000e+00\n",
       "25%      2.900000e+03\n",
       "50%      3.215000e+03\n",
       "75%      3.525000e+03\n",
       "max      7.000000e+03\n",
       "Name: PESO, dtype: float64"
      ]
     },
     "execution_count": 10,
     "metadata": {},
     "output_type": "execute_result"
    }
   ],
   "source": [
    "peso_feto.describe()"
   ]
  },
  {
   "cell_type": "code",
   "execution_count": 11,
   "metadata": {},
   "outputs": [
    {
     "data": {
      "text/plain": [
       "-0.8916472349547755"
      ]
     },
     "execution_count": 11,
     "metadata": {},
     "output_type": "execute_result"
    }
   ],
   "source": [
    "peso_feto.skew()"
   ]
  },
  {
   "cell_type": "markdown",
   "metadata": {},
   "source": [
    "Assimetrica negativa comprova que os valores mais baixos de peso são mais esparsos  "
   ]
  },
  {
   "cell_type": "markdown",
   "metadata": {},
   "source": [
    "## 2. Qual a frequência do índice de Kotelchuck?"
   ]
  },
  {
   "cell_type": "code",
   "execution_count": 12,
   "metadata": {},
   "outputs": [],
   "source": [
    "kotelchuck = full_df['KOTELCHUCK']"
   ]
  },
  {
   "cell_type": "code",
   "execution_count": 13,
   "metadata": {},
   "outputs": [
    {
     "data": {
      "text/plain": [
       "<AxesSubplot:xlabel='KOTELCHUCK', ylabel='count'>"
      ]
     },
     "execution_count": 13,
     "metadata": {},
     "output_type": "execute_result"
    },
    {
     "data": {
      "image/png": "[encoded data removed]",
      "text/plain": [
       "<Figure size 432x288 with 1 Axes>"
      ]
     },
     "metadata": {
      "needs_background": "light"
     },
     "output_type": "display_data"
    }
   ],
   "source": [
    "sns.countplot(x = kotelchuck)"
   ]
  },
  {
   "cell_type": "markdown",
   "metadata": {},
   "source": [
    "Índice de Kotelchuck é uma métrica de qualidade de ida a consultas pré-natal. Quanto maior o indice, mais a mãe teve consultas pré natal. Maior parte dos exemplos de parto foram com mães que fizeram consultas consideradas \"mais do que adequado\" para o índice de Kotelchuck."
   ]
  },
  {
   "cell_type": "markdown",
   "metadata": {},
   "source": [
    "Apesar de não ser causa-efeito, o índice de kotelchuck pode indicar o motivo do dataset ter desbalanceamento de classe, dado que o acompanhamento médico é uma das melhores prevensões segundo explicado em https://www.gov.br/ebserh/pt-br/hospitais-universitarios/regiao-sudeste/hc-ufmg/comunicacao/noticias/prematuridade-pre-natal-adequado-e-a-melhor-forma-de-prevencao  "
   ]
  },
  {
   "cell_type": "markdown",
   "metadata": {},
   "source": [
    "## 3. Qual a porcentagem de récem-nascidos do sexo masculino e feminino?"
   ]
  },
  {
   "cell_type": "code",
   "execution_count": 14,
   "metadata": {},
   "outputs": [],
   "source": [
    "sexo = full_df[full_df['SEXO'] != 0]['SEXO']"
   ]
  },
  {
   "cell_type": "code",
   "execution_count": 15,
   "metadata": {},
   "outputs": [
    {
     "data": {
      "text/plain": [
       "2"
      ]
     },
     "execution_count": 15,
     "metadata": {},
     "output_type": "execute_result"
    }
   ],
   "source": [
    "sexo.nunique()"
   ]
  },
  {
   "cell_type": "code",
   "execution_count": 16,
   "metadata": {},
   "outputs": [
    {
     "data": {
      "text/plain": [
       "<AxesSubplot:xlabel='SEXO', ylabel='count'>"
      ]
     },
     "execution_count": 16,
     "metadata": {},
     "output_type": "execute_result"
    },
    {
     "data": {
      "image/png": "[encoded data removed]",
      "text/plain": [
       "<Figure size 432x288 with 1 Axes>"
      ]
     },
     "metadata": {
      "needs_background": "light"
     },
     "output_type": "display_data"
    }
   ],
   "source": [
    "sns.countplot(x = sexo)"
   ]
  },
  {
   "cell_type": "code",
   "execution_count": 17,
   "metadata": {},
   "outputs": [],
   "source": [
    "counts = sexo.value_counts()"
   ]
  },
  {
   "cell_type": "code",
   "execution_count": 18,
   "metadata": {},
   "outputs": [
    {
     "name": "stdout",
     "output_type": "stream",
     "text": [
      "0.4883 % dos recém-nascidos são do sexo feminino\n"
     ]
    }
   ],
   "source": [
    "print(f\"{ round(counts[2]/ shape[0],4)} % dos recém-nascidos são do sexo feminino\")"
   ]
  },
  {
   "cell_type": "code",
   "execution_count": 19,
   "metadata": {},
   "outputs": [
    {
     "name": "stdout",
     "output_type": "stream",
     "text": [
      "0.5116 % dos recém-nascidos são do sexo masculino\n"
     ]
    }
   ],
   "source": [
    "print(f\"{ round(counts[1]/ shape[0],4)} % dos recém-nascidos são do sexo masculino\")"
   ]
  },
  {
   "cell_type": "markdown",
   "metadata": {},
   "source": [
    "Os valores são próximos do esperado (50/50)."
   ]
  },
  {
   "cell_type": "markdown",
   "metadata": {},
   "source": [
    "Vamos verificar se há alguma diferença entre recém-nascidos do sexo feminimo e masculino na análise multivariada."
   ]
  },
  {
   "cell_type": "markdown",
   "metadata": {},
   "source": [
    "## 4. Quantos casos tem de mães que já perderam outros filhos em gravidez anterior?"
   ]
  },
  {
   "cell_type": "code",
   "execution_count": 20,
   "metadata": {},
   "outputs": [],
   "source": [
    "fil_mort =full_df['QTDFILMORT']"
   ]
  },
  {
   "cell_type": "code",
   "execution_count": 21,
   "metadata": {},
   "outputs": [
    {
     "data": {
      "text/plain": [
       "0.0     2047955\n",
       "1.0      411617\n",
       "2.0       79060\n",
       "3.0       17818\n",
       "4.0        4360\n",
       "5.0        1436\n",
       "6.0         578\n",
       "7.0         209\n",
       "8.0         136\n",
       "10.0        114\n",
       "9.0          74\n",
       "11.0         27\n",
       "99.0         11\n",
       "12.0         10\n",
       "20.0          8\n",
       "13.0          7\n",
       "14.0          5\n",
       "15.0          4\n",
       "19.0          3\n",
       "26.0          2\n",
       "17.0          2\n",
       "30.0          1\n",
       "28.0          1\n",
       "22.0          1\n",
       "24.0          1\n",
       "21.0          1\n",
       "Name: QTDFILMORT, dtype: int64"
      ]
     },
     "execution_count": 21,
     "metadata": {},
     "output_type": "execute_result"
    }
   ],
   "source": [
    "fil_mort.value_counts()"
   ]
  },
  {
   "cell_type": "code",
   "execution_count": 22,
   "metadata": {},
   "outputs": [],
   "source": [
    "fil_mort = full_df[full_df['QTDFILMORT'] <= 4]['QTDFILMORT']"
   ]
  },
  {
   "cell_type": "code",
   "execution_count": 23,
   "metadata": {},
   "outputs": [
    {
     "data": {
      "text/plain": [
       "0.0    2047955\n",
       "1.0     411617\n",
       "2.0      79060\n",
       "3.0      17818\n",
       "4.0       4360\n",
       "Name: QTDFILMORT, dtype: int64"
      ]
     },
     "execution_count": 23,
     "metadata": {},
     "output_type": "execute_result"
    }
   ],
   "source": [
    "fil_mort.value_counts()"
   ]
  },
  {
   "cell_type": "code",
   "execution_count": 24,
   "metadata": {},
   "outputs": [
    {
     "data": {
      "text/plain": [
       "<AxesSubplot:xlabel='QTDFILMORT', ylabel='count'>"
      ]
     },
     "execution_count": 24,
     "metadata": {},
     "output_type": "execute_result"
    },
    {
     "data": {
      "image/png": "[encoded data removed]",
      "text/plain": [
       "<Figure size 432x288 with 1 Axes>"
      ]
     },
     "metadata": {
      "needs_background": "light"
     },
     "output_type": "display_data"
    }
   ],
   "source": [
    "sns.countplot(x = fil_mort)"
   ]
  },
  {
   "cell_type": "markdown",
   "metadata": {},
   "source": [
    "Em maioria dos partos, a mulher havia tido 0 percas."
   ]
  },
  {
   "cell_type": "markdown",
   "metadata": {},
   "source": [
    "É notavel que alguns casos improváveis se apresentam nesse dataset. Por exemplo, 11 casos em que mulheres obtiveram 99 percas anteriores ao parto, que indica possívelmente ruído por parte dos anotadores no hospital."
   ]
  },
  {
   "cell_type": "markdown",
   "metadata": {},
   "source": [
    "## 5. Qual o número de consultas pré-natal realizadas pelas mães? "
   ]
  },
  {
   "cell_type": "code",
   "execution_count": 25,
   "metadata": {},
   "outputs": [],
   "source": [
    "prenat =full_df['CONSPRENAT']"
   ]
  },
  {
   "cell_type": "code",
   "execution_count": 26,
   "metadata": {},
   "outputs": [
    {
     "data": {
      "text/plain": [
       "[]"
      ]
     },
     "execution_count": 26,
     "metadata": {},
     "output_type": "execute_result"
    },
    {
     "data": {
      "image/png": "[encoded data removed]",
      "text/plain": [
       "<Figure size 432x288 with 1 Axes>"
      ]
     },
     "metadata": {
      "needs_background": "light"
     },
     "output_type": "display_data"
    }
   ],
   "source": [
    "sns.countplot(x = prenat).set(xlabel=None)\n",
    "plt.tick_params(labelbottom = False)\n",
    "plt.plot()"
   ]
  },
  {
   "cell_type": "markdown",
   "metadata": {},
   "source": [
    "Como peso, o número de consultas pré-natal aparenta ser uma distribuição normal. É notavel que um valor elevado apresenta-se como ruido"
   ]
  },
  {
   "cell_type": "code",
   "execution_count": 27,
   "metadata": {},
   "outputs": [
    {
     "data": {
      "text/plain": [
       "count    2.595710e+06\n",
       "mean     8.728230e+00\n",
       "std      6.648187e+00\n",
       "min      0.000000e+00\n",
       "25%      6.000000e+00\n",
       "50%      8.000000e+00\n",
       "75%      1.000000e+01\n",
       "max      9.900000e+01\n",
       "Name: CONSPRENAT, dtype: float64"
      ]
     },
     "execution_count": 27,
     "metadata": {},
     "output_type": "execute_result"
    }
   ],
   "source": [
    "prenat.describe()"
   ]
  },
  {
   "cell_type": "markdown",
   "metadata": {},
   "source": [
    "sendo o valor máximo possívelmente o ruído."
   ]
  },
  {
   "cell_type": "markdown",
   "metadata": {},
   "source": [
    "### IVSON"
   ]
  },
  {
   "cell_type": "markdown",
   "metadata": {},
   "source": [
    "### 1. Qual é a Frequência dos Tipos de Assistência do Parto ?\n"
   ]
  },
  {
   "cell_type": "code",
   "execution_count": 28,
   "metadata": {},
   "outputs": [
    {
     "data": {
      "image/png": "[encoded data removed]",
      "text/plain": [
       "<Figure size 432x288 with 1 Axes>"
      ]
     },
     "metadata": {
      "needs_background": "light"
     },
     "output_type": "display_data"
    }
   ],
   "source": [
    "assist_parto = full_df[['TPNASCASSI']].rename(columns={\"TPNASCASSI\":\"Assistente\"})\n",
    "ax = sns.countplot(data=assist_parto[assist_parto['Assistente'] != 'nan'], x='Assistente', hue='Assistente', dodge=False, palette='colorblind')\n",
    "ax.set_yscale('log')\n",
    "ax.set(xlabel=None)\n",
    "plt.ylabel('Frequência (escala logarítmica)')\n",
    "plt.title(\"Frequência do Tipo de Assistência do Parto\")\n",
    "plt.tick_params(axis='x', which='both', bottom=False, top=False, labelbottom=False)\n",
    "plt.show()"
   ]
  },
  {
   "cell_type": "markdown",
   "metadata": {},
   "source": [
    "### Com base no gráfico acima podemos observar que apesar da assistência médica durante o parto ser mais comum, a soma dos outros tipos correspondem a quase metade do total. Dessa forma, fica evidente que um parto não é um procedimento predominantemente médico\n"
   ]
  },
  {
   "cell_type": "markdown",
   "metadata": {},
   "source": [
    "### 2. Qual a distribuição dos tipos de apresentação do Recém Nascido na hora do parto\n"
   ]
  },
  {
   "cell_type": "code",
   "execution_count": 29,
   "metadata": {},
   "outputs": [
    {
     "data": {
      "image/png": "[encoded data removed]",
      "text/plain": [
       "<Figure size 432x288 with 1 Axes>"
      ]
     },
     "metadata": {
      "needs_background": "light"
     },
     "output_type": "display_data"
    }
   ],
   "source": [
    "aprs_rn = full_df[['TPAPRESENT']].rename(columns={\"TPAPRESENT\":\"Apresentação\"})\n",
    "ax = sns.countplot(data=aprs_rn[aprs_rn['Apresentação'] != 'nan'], x='Apresentação', hue='Apresentação', dodge=False, palette='colorblind')\n",
    "ax.set_yscale('log')\n",
    "ax.set(xlabel=None)\n",
    "\n",
    "plt.ylabel('Frequência (escala logarítmica)')\n",
    "plt.title(\"Frequência do tipo de apresentação do recém nascido\")\n",
    "plt.tick_params(axis='x', which='both', bottom=False, top=False, labelbottom=False)\n",
    "plt.show()"
   ]
  },
  {
   "cell_type": "markdown",
   "metadata": {},
   "source": [
    "### A apresentação cefálica é a mais comum, apesar da apresentação pélvica também ser relevante. Complicações relacionadas ao tipo de apresentação depende de outros fatores, contudo fica claro que a transversal é um evento raro, o que contribui para um parto mais seguro\n"
   ]
  },
  {
   "cell_type": "markdown",
   "metadata": {},
   "source": [
    "## 3. Levanto em conta que o parto não é predominantemente um procedimento médico e que a apresentação do recém nascido contribui para um parto normal, qual é a distribuição dos tipos de parto?\n"
   ]
  },
  {
   "cell_type": "code",
   "execution_count": 30,
   "metadata": {},
   "outputs": [
    {
     "data": {
      "image/png": "[encoded data removed]",
      "text/plain": [
       "<Figure size 864x288 with 1 Axes>"
      ]
     },
     "metadata": {},
     "output_type": "display_data"
    }
   ],
   "source": [
    "palette_color = sns.color_palette('colorblind')\n",
    "gp_parto = full_df[(full_df['PARTO'] != 'nan') & (full_df['PARTO'] != 'Ignorado') ]\\\n",
    "                .groupby('PARTO')\\\n",
    "                .agg(contagem=(\"PARTO\", 'count'))\\\n",
    "                .reset_index()\n",
    "\n",
    "palette_color = sns.color_palette('colorblind')\n",
    "\n",
    "fig, ax = plt.subplots(figsize=(12, 4), subplot_kw=dict(aspect=\"equal\"))\n",
    "labels = gp_parto['PARTO'].unique()\n",
    "wedges, texts= ax.pie(x=gp_parto['contagem'], pctdistance=0.8, colors=palette_color, \n",
    "                               wedgeprops=dict(width=0.5, edgecolor='w', linewidth=0.5),\n",
    "                               shadow=True,\n",
    "                               startangle=-40)\n",
    "\n",
    "for i, p in enumerate(wedges):\n",
    "    ang = (p.theta2 - p.theta1) / 2.0 + p.theta1\n",
    "    y = np.sin(np.deg2rad(ang))\n",
    "    x = np.cos(np.deg2rad(ang))\n",
    "    horizontalalignment = {-1: \"right\", 1: \"left\"}[int(np.sign(x))]\n",
    "    connectionstyle = f\"angle,angleA=0,angleB={ang}\"\n",
    "    percentage_value = f\"{gp_parto['contagem'].values[i] / sum(gp_parto['contagem']) * 100:.1f}%\"\n",
    "    ax.annotate(f\"{labels[i]} - {percentage_value}\", xy=(x, y), xytext=(1.25 * np.sign(x), 1.2 * y),\n",
    "                fontsize=12,\n",
    "                bbox=dict(boxstyle=\"round,pad=0.3\", facecolor='w', lw=1),\n",
    "                horizontalalignment=horizontalalignment,\n",
    "                arrowprops=dict(arrowstyle=\"-\", lw=1, color='grey', connectionstyle=connectionstyle))\n",
    "\n",
    "plt.title(\"Proporção Tipos de Parto\")\n",
    "plt.show()"
   ]
  },
  {
   "cell_type": "markdown",
   "metadata": {},
   "source": [
    "### Apesar dos resultados obtidos nos primeiros gráficos(Tipo de Assistente, Tipo de Apresentação do Recém Nascido), o parto Vaginal(normal) não é predominante. Esse é um tema debatido na sociedade atualmente, porém com o conjunto de dados atual, somado ao escopo do estudo, não mergulharemos nesse linha de investigação.\n"
   ]
  },
  {
   "cell_type": "markdown",
   "metadata": {},
   "source": [
    "### TODO - Investigar idade da mãe\n"
   ]
  },
  {
   "cell_type": "markdown",
   "metadata": {},
   "source": [
    "## 4. Sabemos que o fato de gerar um pessoa custa tempo e esforço, principalmente da genitora. Dessa forma, qual seria o impacto na educação dessas mulheres\n"
   ]
  },
  {
   "cell_type": "code",
   "execution_count": 31,
   "metadata": {},
   "outputs": [
    {
     "data": {
      "image/png": "[encoded data removed]",
      "text/plain": [
       "<Figure size 864x288 with 1 Axes>"
      ]
     },
     "metadata": {},
     "output_type": "display_data"
    }
   ],
   "source": [
    "esc_mae = full_df[full_df['ESCMAE2010'] != 'nan'].groupby('ESCMAE2010').agg(contagem=('ESCMAE2010', 'count')).reset_index()\n",
    "palette_color = sns.color_palette('colorblind')\n",
    "\n",
    "fig, ax = plt.subplots(figsize=(12, 4), subplot_kw=dict(aspect=\"equal\"))\n",
    "labels = esc_mae['ESCMAE2010'].unique()\n",
    "wedges, texts= ax.pie(x=esc_mae['contagem'], pctdistance=0.8, colors=palette_color, \n",
    "                               wedgeprops=dict(width=0.5, edgecolor='w', linewidth=0.5),\n",
    "                               shadow=True,\n",
    "                               startangle=-40)\n",
    "\n",
    "for i, p in enumerate(wedges):\n",
    "    ang = (p.theta2 - p.theta1) / 2.0 + p.theta1\n",
    "    y = np.sin(np.deg2rad(ang))\n",
    "    x = np.cos(np.deg2rad(ang))\n",
    "    horizontalalignment = {-1: \"right\", 1: \"left\"}[int(np.sign(x))]\n",
    "    connectionstyle = f\"angle,angleA=0,angleB={ang}\"\n",
    "    percentage_value = f\"{esc_mae['contagem'].values[i] / sum(esc_mae['contagem']) * 100:.1f}%\"\n",
    "    ax.annotate(f\"{labels[i]} - {percentage_value}\", xy=(x, y), xytext=(1.25 * np.sign(x), 1.2 * y),\n",
    "                fontsize=12,\n",
    "                bbox=dict(boxstyle=\"round,pad=0.3\", facecolor='w', lw=1),\n",
    "                horizontalalignment=horizontalalignment,\n",
    "                arrowprops=dict(arrowstyle=\"-\", lw=1, color='grey', connectionstyle=connectionstyle))\n",
    "\n",
    "plt.title(\"Percentual do Grau de Educação Formal da Mãe\")\n",
    "plt.show()"
   ]
  },
  {
   "cell_type": "markdown",
   "metadata": {},
   "source": [
    "### Apesar de 82,9% dessas mulheres não completarem o ensino superior não podemos inferir que esta seja a causa desse problema devido aos diversos fatores o compõe, contudo podemos observar como o grau de escolaridade impacta na quantidade de filhos\n"
   ]
  },
  {
   "cell_type": "markdown",
   "metadata": {},
   "source": [
    "## 5. Atualmente muito se discute sobre antinatalismo, nesse sentido o que nossos dados nos contam sobre isso?\n"
   ]
  },
  {
   "cell_type": "code",
   "execution_count": 32,
   "metadata": {},
   "outputs": [
    {
     "data": {
      "image/png": "[encoded data removed]",
      "text/plain": [
       "<Figure size 864x288 with 1 Axes>"
      ]
     },
     "metadata": {},
     "output_type": "display_data"
    }
   ],
   "source": [
    "par_mae = full_df[full_df['PARIDADE'] != 'nan'].groupby('PARIDADE').agg(contagem=('PARIDADE', 'count')).reset_index()\n",
    "palette_color = sns.color_palette('colorblind')\n",
    "\n",
    "fig, ax = plt.subplots(figsize=(12, 4), subplot_kw=dict(aspect=\"equal\"))\n",
    "labels = par_mae['PARIDADE'].unique()\n",
    "wedges, texts= ax.pie(x=par_mae['contagem'], pctdistance=0.8, colors=palette_color, \n",
    "                               wedgeprops=dict(width=0.5, edgecolor='w', linewidth=0.5),\n",
    "                               shadow=True,\n",
    "                               startangle=-40)\n",
    "\n",
    "for i, p in enumerate(wedges):\n",
    "    ang = (p.theta2 - p.theta1) / 2.0 + p.theta1\n",
    "    y = np.sin(np.deg2rad(ang))\n",
    "    x = np.cos(np.deg2rad(ang))\n",
    "    horizontalalignment = {-1: \"right\", 1: \"left\"}[int(np.sign(x))]\n",
    "    connectionstyle = f\"angle,angleA=0,angleB={ang}\"\n",
    "    percentage_value = f\"{par_mae['contagem'].values[i] / sum(par_mae['contagem']) * 100:.1f}%\"\n",
    "    ax.annotate(f\"{labels[i]} - {percentage_value}\", xy=(x, y), xytext=(1.25 * np.sign(x), 1.2 * y),\n",
    "                fontsize=12,\n",
    "                bbox=dict(boxstyle=\"round,pad=0.3\", facecolor='w', lw=1),\n",
    "                horizontalalignment=horizontalalignment,\n",
    "                arrowprops=dict(arrowstyle=\"-\", lw=1, color='grey', connectionstyle=connectionstyle))\n",
    "plt.title(\"Percentual de Paridade\")\n",
    "plt.show()"
   ]
  },
  {
   "cell_type": "markdown",
   "metadata": {},
   "source": [
    "### Relacionar isso ao movimento antinatalista pode ser um exagero, porém como pode ser obversado é mais provável que alguém que já teve um filho tenha outro."
   ]
  },
  {
   "cell_type": "markdown",
   "metadata": {},
   "source": [
    "### Enzo"
   ]
  },
  {
   "cell_type": "markdown",
   "metadata": {},
   "source": [
    "# 1. Em quais locais são mais comuns onde acontecem os partos? "
   ]
  },
  {
   "cell_type": "code",
   "execution_count": 33,
   "metadata": {},
   "outputs": [
    {
     "data": {
      "text/plain": [
       "[]"
      ]
     },
     "execution_count": 33,
     "metadata": {},
     "output_type": "execute_result"
    },
    {
     "data": {
      "image/png": "[encoded data removed]",
      "text/plain": [
       "<Figure size 432x288 with 1 Axes>"
      ]
     },
     "metadata": {
      "needs_background": "light"
     },
     "output_type": "display_data"
    }
   ],
   "source": [
    "loc_nasc = full_df[[\"LOCNASC\"]].rename(columns={\"LOCNASC\": \"Local de nascimemtno\"})\n",
    "\n",
    "data = sns.countplot(data=loc_nasc[loc_nasc[\"Local de nascimemtno\"] != 'nan'], x=\"Local de nascimemtno\", hue=\"Local de nascimemtno\", dodge=False, palette='colorblind')\n",
    "data.set(xlabel=None)\n",
    "data.set_yscale('log')\n",
    "plt.ylabel('Quantidade de partos (escala logarítmica)')\n",
    "plt.title(\"Local de nascimento\")\n",
    "plt.tick_params(axis='x', which='both', bottom=False, top=False, labelbottom=False)\n",
    "plt.plot()"
   ]
  },
  {
   "cell_type": "code",
   "execution_count": 34,
   "metadata": {},
   "outputs": [
    {
     "name": "stdout",
     "output_type": "stream",
     "text": [
      "Hospital: 2597410\n",
      "Domicílio: 18485\n",
      "0.9828205714216524\n",
      "0.006994443796985938\n",
      "0.006788980827996846\n"
     ]
    }
   ],
   "source": [
    "contagem = loc_nasc[\"Local de nascimemtno\"].value_counts()\n",
    "\n",
    "print(f'Hospital: {contagem[\"Hospital\"]}')\n",
    "print(f'Domicílio: {contagem[\"Domicílio\"]}')\n",
    "print(contagem[\"Hospital\"]/ len(loc_nasc[\"Local de nascimemtno\"]))\n",
    "print(contagem[\"Domicílio\"]/ len(loc_nasc[\"Local de nascimemtno\"]))\n",
    "print(contagem[\"Outros estabelecimentos de saúde\"]/ len(loc_nasc[\"Local de nascimemtno\"]))"
   ]
  },
  {
   "cell_type": "markdown",
   "metadata": {},
   "source": [
    "Percebemos que 2597410, equivalente a 98,28% dos partos ocorrem nos hospitais, 0,68% ocorre em outros estabeleciemntos de saúde e aproxiamdamente 1% em outros locais."
   ]
  },
  {
   "cell_type": "markdown",
   "metadata": {},
   "source": [
    "# 2. Atualmente, nascem mais crianças em cidade grandes ou pequenas?"
   ]
  },
  {
   "cell_type": "code",
   "execution_count": 35,
   "metadata": {},
   "outputs": [
    {
     "data": {
      "text/plain": [
       "[]"
      ]
     },
     "execution_count": 35,
     "metadata": {},
     "output_type": "execute_result"
    },
    {
     "data": {
      "image/png": "[encoded data removed]",
      "text/plain": [
       "<Figure size 432x216 with 1 Axes>"
      ]
     },
     "metadata": {},
     "output_type": "display_data"
    }
   ],
   "source": [
    "def format_custom(pct):\n",
    "    return f'{round(pct)} %'\n",
    "\n",
    "porte_cidade = full_df[[\"Porte\"]]\n",
    "contagem = porte_cidade[\"Porte\"].value_counts()\n",
    "\n",
    "\n",
    "fig, ax = plt.subplots(figsize=(6, 3), subplot_kw=dict(aspect=\"equal\"))\n",
    "wedges, texts, autotexts = ax.pie(contagem, wedgeprops={'width':.7,}, textprops={\"color\":'w'}, startangle=-40, autopct=lambda pct: format_custom(pct))\n",
    "\n",
    "bbox_props = dict(boxstyle=\"square,pad=0.3\", fc=\"w\", ec=\"k\", lw=0.72)\n",
    "kw = dict(arrowprops=dict(arrowstyle=\"-\"), bbox=bbox_props, zorder=0, va=\"center\")\n",
    "\n",
    "plt.setp(autotexts, size=8, weight=\"bold\")\n",
    "\n",
    "for i, p in enumerate(wedges):\n",
    "    ang = (p.theta2 - p.theta1)/2. + p.theta1\n",
    "    y = np.sin(np.deg2rad(ang))\n",
    "    x = np.cos(np.deg2rad(ang))\n",
    "    horizontalalignment = {-1: \"right\", 1: \"left\"}[int(np.sign(x))]\n",
    "    connectionstyle = f\"angle,angleA=0,angleB={ang}\"\n",
    "    kw[\"arrowprops\"].update({\"connectionstyle\": connectionstyle})\n",
    "\n",
    "    ax.annotate(f'{contagem.index[i]}', xy=(x, y), xytext=(1.35*np.sign(x), 1.4*y),horizontalalignment=horizontalalignment, **kw)\n",
    "\n",
    "plt.title(\"Porcentagem de nascimentos pelo porte da cidade\")\n",
    "plt.plot()"
   ]
  },
  {
   "cell_type": "code",
   "execution_count": 36,
   "metadata": {},
   "outputs": [
    {
     "name": "stdout",
     "output_type": "stream",
     "text": [
      "Grande: 1746368\n",
      "Medio: 406704\n",
      "Pequena: 489736\n"
     ]
    }
   ],
   "source": [
    "print(f'Grande: {contagem[\"Grande\"] + contagem[\"Metrópole\"]}')\n",
    "print(f'Medio: {contagem[\"Médio\"]}')\n",
    "print(f'Pequena: {contagem[\"Pequeno I\"] + contagem[\"Pequeno II\"]}')"
   ]
  },
  {
   "cell_type": "markdown",
   "metadata": {},
   "source": [
    "Podemos observar que 1746368 (66%) dos nasciemntos ocorrem em cidades grandes, enquanto apenas 489736 (19%) ocorrem em cidades pequenas. Os outros 406704 (15%) ocorrem em cidades de porte médio."
   ]
  },
  {
   "cell_type": "markdown",
   "metadata": {},
   "source": [
    "# 3. Existem muitos recém nascidos com anomalias?"
   ]
  },
  {
   "cell_type": "code",
   "execution_count": 37,
   "metadata": {},
   "outputs": [
    {
     "data": {
      "text/plain": [
       "[]"
      ]
     },
     "execution_count": 37,
     "metadata": {},
     "output_type": "execute_result"
    },
    {
     "data": {
      "image/png": "[encoded data removed]",
      "text/plain": [
       "<Figure size 432x288 with 1 Axes>"
      ]
     },
     "metadata": {
      "needs_background": "light"
     },
     "output_type": "display_data"
    }
   ],
   "source": [
    "anomalias = full_df[[\"IDANOMAL\"]].rename(columns={\"IDANOMAL\": \"Nascidos com anomalias\"})\n",
    "\n",
    "data = sns.countplot(x=anomalias[\"Nascidos com anomalias\"])\n",
    "data.set(xlabel=None)\n",
    "data.set_yscale('log')\n",
    "plt.tick_params(axis='x', which='both', bottom=False, top=False, labelbottom=False)\n",
    "plt.ylabel('Quantidade')\n",
    "plt.title(\"Quantidade de nascidos com anomalias\")\n",
    "plt.plot()"
   ]
  },
  {
   "cell_type": "code",
   "execution_count": 38,
   "metadata": {},
   "outputs": [
    {
     "name": "stdout",
     "output_type": "stream",
     "text": [
      "Com anomalias: 0.008609768685778632\n",
      "Sem anomalias: 0.9751980087876095\n"
     ]
    }
   ],
   "source": [
    "contagem = anomalias[\"Nascidos com anomalias\"].value_counts()\n",
    "print(f'Com anomalias: {contagem[1] / len(anomalias[\"Nascidos com anomalias\"])}')\n",
    "print(f'Sem anomalias: {contagem[2] / len(anomalias[\"Nascidos com anomalias\"])}')"
   ]
  },
  {
   "cell_type": "markdown",
   "metadata": {},
   "source": [
    "Aproximadamente 97,52% dos recém nascidos não apresentam nenhuma anomalia."
   ]
  },
  {
   "cell_type": "markdown",
   "metadata": {},
   "source": [
    "# 4. Qual o proporção do nascimento de gêmeos em relação ao de não gêmeos?"
   ]
  },
  {
   "cell_type": "code",
   "execution_count": 39,
   "metadata": {},
   "outputs": [
    {
     "data": {
      "text/plain": [
       "[]"
      ]
     },
     "execution_count": 39,
     "metadata": {},
     "output_type": "execute_result"
    },
    {
     "data": {
      "image/png": "[encoded data removed]",
      "text/plain": [
       "<Figure size 432x288 with 1 Axes>"
      ]
     },
     "metadata": {
      "needs_background": "light"
     },
     "output_type": "display_data"
    }
   ],
   "source": [
    "def addlabels(x,y):\n",
    "    for i in x:\n",
    "        pos = y[i]//2 if i == 1 else y[i] + 100000\n",
    "        plt.text(i,pos, y[i], ha=\"center\")\n",
    "\n",
    "qtd_filhos = full_df[[\"GRAVIDEZ\"]].rename(columns={\"GRAVIDEZ\": \"Quantidade de filhos na gravidez\"})\n",
    "\n",
    "contagem = qtd_filhos[\"Quantidade de filhos na gravidez\"].value_counts()\n",
    "\n",
    "fig, ax = plt.subplots()\n",
    "ax.bar(contagem.index, contagem, label=contagem.index, color=['#1f77b4', '#ff7f0e', '#2ca02c'])\n",
    "\n",
    "addlabels(contagem.index, contagem)\n",
    "\n",
    "plt.xticks(contagem.index)\n",
    "plt.ylabel('Quantidade')\n",
    "plt.title(\"Quantidade de filhos na gravidez\")\n",
    "plt.plot()"
   ]
  },
  {
   "cell_type": "code",
   "execution_count": 40,
   "metadata": {},
   "outputs": [
    {
     "name": "stdout",
     "output_type": "stream",
     "text": [
      "Gêmeos: 58113 - 0.021989078299932043\n",
      "Não gêmeos: 2583291 - 0.9774781558430944\n"
     ]
    }
   ],
   "source": [
    "\n",
    "print(f'Gêmeos: {contagem[2] + contagem[3]} - {(contagem[2] + contagem[3]) / len(qtd_filhos[\"Quantidade de filhos na gravidez\"])}')\n",
    "print(f'Não gêmeos: {contagem[1]} - {contagem[1] / len(qtd_filhos[\"Quantidade de filhos na gravidez\"])}')"
   ]
  },
  {
   "cell_type": "markdown",
   "metadata": {},
   "source": [
    "Aproxiamdamente 2,2% dos nascimentos são de gêmeos, com 2 ou mais crianças, portanto 97,8% dos nascimentos constam apenas 1 criança.   "
   ]
  },
  {
   "cell_type": "markdown",
   "metadata": {},
   "source": [
    "# 5. Qual a idade mais comum para ser mãe "
   ]
  },
  {
   "cell_type": "code",
   "execution_count": 41,
   "metadata": {},
   "outputs": [
    {
     "data": {
      "text/plain": [
       "[]"
      ]
     },
     "execution_count": 41,
     "metadata": {},
     "output_type": "execute_result"
    },
    {
     "data": {
      "image/png": "[encoded data removed]",
      "text/plain": [
       "<Figure size 432x288 with 1 Axes>"
      ]
     },
     "metadata": {
      "needs_background": "light"
     },
     "output_type": "display_data"
    }
   ],
   "source": [
    "idades_maes = full_df[[\"IDADEMAE\"]].rename(columns={\"IDADEMAE\": \"Idade mae\"})\n",
    "\n",
    "data = sns.boxplot(x=idades_maes[\"Idade mae\"])\n",
    "plt.xlabel(\"\")\n",
    "plt.title(\"Idade da mãe\")\n",
    "plt.plot()"
   ]
  },
  {
   "cell_type": "code",
   "execution_count": 42,
   "metadata": {},
   "outputs": [
    {
     "data": {
      "text/plain": [
       "count    2.642776e+06\n",
       "mean     2.728197e+01\n",
       "std      6.772831e+00\n",
       "min      8.000000e+00\n",
       "25%      2.200000e+01\n",
       "50%      2.700000e+01\n",
       "75%      3.200000e+01\n",
       "max      9.900000e+01\n",
       "Name: Idade mae, dtype: float64"
      ]
     },
     "execution_count": 42,
     "metadata": {},
     "output_type": "execute_result"
    }
   ],
   "source": [
    "idades_maes[\"Idade mae\"].describe()"
   ]
  },
  {
   "cell_type": "markdown",
   "metadata": {},
   "source": [
    "Ataulmente, a idade mais comum para ser mãe é entre 22 e 32 anos, ainda assim é comum ser uma nova mãe até os 67. Percebemos que exitem algus casos atípicos de mães bem novas a partir de 8 anos."
   ]
  },
  {
   "cell_type": "markdown",
   "metadata": {
    "colab_type": "text",
    "id": "cAVrOW1tgQU7",
    "pycharm": {
     "name": "#%% md\n"
    }
   },
   "source": [
    "# Multivariate data analysis"
   ]
  },
  {
   "cell_type": "markdown",
   "metadata": {
    "colab_type": "text",
    "id": "jD7VaU40z_sN",
    "pycharm": {
     "name": "#%% md\n"
    }
   },
   "source": [
    "In this section, you should plot at least 8 multivariate visualizations. The key here is to investigate underlying correlations and behaviors in the dataset.\n",
    "Naturally, as visualizations are being created, we should end up with obvious results, yet, you should find at least **TWO** non-obvious behavior in data.\n",
    "\n",
    "Please follow these steps for creating your visualizations:\n",
    "1. State an hypothesis. The key here is to explain why you are choosing those specific variables together and what you are expecting to find.\n",
    "2. Determine what kind of visualization is the most suited.\n",
    "3. Report the findings and whether they corroborate or not the aforestated hypothesis.\n",
    "\n",
    "\n",
    "### Hints\n",
    "\n",
    "In this section, make sure you go beyond naive explorations. For instance, try PCA, t-SNE, and even other techniques we have not worked with during the lectures. The key here is to start to develop a critical mindset towards data analysis and our own work.\n",
    "\n",
    "### Important\n",
    "\n",
    "It is strictly forbidden to create multivariate visualizations using variables that were not used in the previous section (univariate analysis)."
   ]
  },
  {
   "cell_type": "markdown",
   "metadata": {},
   "source": [
    "### IVSON"
   ]
  },
  {
   "cell_type": "markdown",
   "metadata": {},
   "source": [
    "### Qual a relação entre o número de gestações e a escolaridade?\n"
   ]
  },
  {
   "cell_type": "code",
   "execution_count": 43,
   "metadata": {},
   "outputs": [
    {
     "data": {
      "image/png": "[encoded data removed]",
      "text/plain": [
       "<Figure size 432x288 with 1 Axes>"
      ]
     },
     "metadata": {
      "needs_background": "light"
     },
     "output_type": "display_data"
    }
   ],
   "source": [
    "esc_gest = full_df[(full_df['QTDGESTANT'] < 99) &  (full_df['ESCMAE2010'] != 'nan')]\n",
    "sns.boxplot(y=esc_gest['ESCMAE2010'], x=esc_gest['QTDGESTANT'], orient='h', palette='colorblind')\n",
    "plt.xlabel(\"Quantidade de Gestações\")\n",
    "plt.ylabel(\"Escolaridade da Mãe\")\n",
    "plt.title(\"Distribuição de Quantidade de Gestações pelo Grau de Escolaridade\")\n",
    "plt.show()"
   ]
  },
  {
   "cell_type": "markdown",
   "metadata": {},
   "source": [
    "### Qual a distribuição das mulheres gestantes pela escolaridade e estado civil?\n"
   ]
  },
  {
   "cell_type": "code",
   "execution_count": 44,
   "metadata": {},
   "outputs": [
    {
     "data": {
      "image/png": "[encoded data removed]",
      "text/plain": [
       "<Figure size 720x432 with 1 Axes>"
      ]
     },
     "metadata": {
      "needs_background": "light"
     },
     "output_type": "display_data"
    }
   ],
   "source": [
    "esc_tp_par = full_df[(full_df['ESCMAE2010']      != 'nan') & (full_df['ESCMAE2010']      != 'Sem escolaridade') &\n",
    "                     (full_df['ESTCIVMAE'] != \"nan\") & (full_df['ESTCIVMAE'] != \"Ignorado\")]\n",
    "\n",
    "count_data = esc_tp_par.groupby(['ESTCIVMAE', 'ESCMAE2010']).size().reset_index(name='Count')\n",
    "\n",
    "# Pivot the DataFrame to create a format suitable for a stacked bar chart\n",
    "pivot_data = count_data.pivot(index='ESCMAE2010', columns='ESTCIVMAE', values='Count').fillna(0)\n",
    "\n",
    "# Create the stacked bar chart\n",
    "plt.figure(figsize=(10, 6))\n",
    "sns.set_palette('colorblind')\n",
    "ax = sns.barplot(data=pivot_data, x=pivot_data.index, y=pivot_data.sum(axis=1))\n",
    "bottom = 0\n",
    "\n",
    "for col in pivot_data.columns:\n",
    "    ax.bar(pivot_data.index, pivot_data[col], label=col, bottom=bottom)\n",
    "    bottom += pivot_data[col]\n",
    "\n",
    "\n",
    "plt.xlabel(\"Escolaridade da Mãe\")\n",
    "plt.ylabel(\"Quantidade de Gestações\")\n",
    "plt.title(\"Distribuição de Quantidade de Gestações pelo Grau de Escolaridade\")\n",
    "plt.legend(title='Número de Gestações (PARTO)')\n",
    "plt.xticks(rotation=45)\n",
    "plt.show()"
   ]
  },
  {
   "cell_type": "markdown",
   "metadata": {},
   "source": [
    "### Podemos ver que quanto maior o grau de escolaridade mais mulheres se encontram em estado civil casada. Contudo, o mais interessante é observarmos como a união estável é um estado civil que se aproxima ou ultrapassa a quantidade de casamentos nos graus mais baixos de escolaridadeices here"
   ]
  },
  {
   "cell_type": "markdown",
   "metadata": {},
   "source": [
    "## DANIEL"
   ]
  },
  {
   "cell_type": "markdown",
   "metadata": {},
   "source": [
    "## 1. É possível distinguir linearmente se um recém-nascido é pré-maturo dado o seu peso?"
   ]
  },
  {
   "cell_type": "code",
   "execution_count": 45,
   "metadata": {},
   "outputs": [
    {
     "data": {
      "text/plain": [
       "GESTACAO\n",
       "Não Prematuro    AxesSubplot(0.125,0.125;0.775x0.755)\n",
       "Prematuro        AxesSubplot(0.125,0.125;0.775x0.755)\n",
       "Name: PESO, dtype: object"
      ]
     },
     "execution_count": 45,
     "metadata": {},
     "output_type": "execute_result"
    },
    {
     "data": {
      "image/png": "[encoded data removed]",
      "text/plain": [
       "<Figure size 432x288 with 1 Axes>"
      ]
     },
     "metadata": {
      "needs_background": "light"
     },
     "output_type": "display_data"
    }
   ],
   "source": [
    "full_df.groupby('GESTACAO').PESO.plot(kind = 'hist', bins = 100)"
   ]
  },
  {
   "cell_type": "code",
   "execution_count": 60,
   "metadata": {},
   "outputs": [
    {
     "name": "stdout",
     "output_type": "stream",
     "text": [
      "count    303578.000000\n",
      "mean       2470.613025\n",
      "std         764.332115\n",
      "min           3.000000\n",
      "25%        2030.000000\n",
      "50%        2530.000000\n",
      "75%        2990.000000\n",
      "max        7000.000000\n",
      "Name: PESO, dtype: float64\n",
      "kurtosis do peso de prematuros 0.129561209338378\n"
     ]
    }
   ],
   "source": [
    "print(full_df[full_df['GESTACAO'] == \"Prematuro\"]['PESO'].describe())\n",
    "print(\"kurtosis do peso de prematuros\",full_df[full_df['GESTACAO'] == \"Prematuro\"]['PESO'].kurtosis())"
   ]
  },
  {
   "cell_type": "code",
   "execution_count": 61,
   "metadata": {},
   "outputs": [
    {
     "name": "stdout",
     "output_type": "stream",
     "text": [
      "count    2.338796e+06\n",
      "mean     3.270851e+03\n",
      "std      4.570652e+02\n",
      "min      1.000000e+02\n",
      "25%      2.983000e+03\n",
      "50%      3.262000e+03\n",
      "75%      3.558000e+03\n",
      "max      7.000000e+03\n",
      "Name: PESO, dtype: float64\n",
      "kurtosis do peso de não prematuros 1.8659265793512785\n"
     ]
    }
   ],
   "source": [
    "print(full_df[full_df['GESTACAO'] == \"Não Prematuro\"]['PESO'].describe())\n",
    "print(\"kurtosis do peso de não prematuros\",full_df[full_df['GESTACAO'] == \"Não Prematuro\"]['PESO'].kurtosis())"
   ]
  },
  {
   "cell_type": "markdown",
   "metadata": {},
   "source": [
    "Dado que em laranja são os casos que o recém-nascido é prematuro e em azul são os casos que o recém=nascido é não prematuro, não é possível distinguir lineramente entre as 2 classes pois há overlap entre pesos de recém-nascidos prematuros e não prematuros. "
   ]
  },
  {
   "cell_type": "markdown",
   "metadata": {},
   "source": [
    "Porém é notável que recém nascidos tem peso menor em termos de mediana, e apresenta uma curtose menor, ou seja, achatamento da curva maior."
   ]
  },
  {
   "cell_type": "markdown",
   "metadata": {},
   "source": [
    "## FAZER  ANÁLISE"
   ]
  },
  {
   "cell_type": "markdown",
   "metadata": {},
   "source": [
    "## 2. A distribuição de prematuros é a mesma para todos os locais de nascimento?"
   ]
  },
  {
   "cell_type": "code",
   "execution_count": 81,
   "metadata": {},
   "outputs": [
    {
     "data": {
      "text/plain": [
       "array(['Aldeia Indígena', 'Hospital', 'Domicílio',\n",
       "       'Outros estabelecimentos de saúde', 'Outros', nan], dtype=object)"
      ]
     },
     "execution_count": 81,
     "metadata": {},
     "output_type": "execute_result"
    }
   ],
   "source": [
    "full_df['LOCNASC'].unique()"
   ]
  },
  {
   "cell_type": "code",
   "execution_count": 87,
   "metadata": {},
   "outputs": [
    {
     "data": {
      "text/plain": [
       "[Text(0, 0, '297417'), Text(0, 0, '2.29999e+06')]"
      ]
     },
     "execution_count": 87,
     "metadata": {},
     "output_type": "execute_result"
    },
    {
     "data": {
      "image/png": "[encoded data removed]",
      "text/plain": [
       "<Figure size 432x288 with 1 Axes>"
      ]
     },
     "metadata": {
      "needs_background": "light"
     },
     "output_type": "display_data"
    }
   ],
   "source": [
    "ax = sns.countplot( x = full_df[full_df['LOCNASC'] == 'Hospital']['GESTACAO'])\n",
    "ax.bar_label(ax.containers[0])"
   ]
  },
  {
   "cell_type": "code",
   "execution_count": 107,
   "metadata": {},
   "outputs": [
    {
     "data": {
      "text/plain": [
       "0.11450521866012682"
      ]
     },
     "execution_count": 107,
     "metadata": {},
     "output_type": "execute_result"
    }
   ],
   "source": [
    "counts_hosp = full_df[full_df['LOCNASC'] == 'Hospital']['GESTACAO'].value_counts(sort=False)\n",
    "\n",
    "counts_hosp[0] / (counts_hosp[0] + counts_hosp[1])"
   ]
  },
  {
   "cell_type": "markdown",
   "metadata": {},
   "source": [
    "Em hospitais 11% dos casos são de prematuridade"
   ]
  },
  {
   "cell_type": "code",
   "execution_count": 88,
   "metadata": {},
   "outputs": [
    {
     "data": {
      "text/plain": [
       "[Text(0, 0, '1753'), Text(0, 0, '564')]"
      ]
     },
     "execution_count": 88,
     "metadata": {},
     "output_type": "execute_result"
    },
    {
     "data": {
      "image/png": "[encoded data removed]",
      "text/plain": [
       "<Figure size 432x288 with 1 Axes>"
      ]
     },
     "metadata": {
      "needs_background": "light"
     },
     "output_type": "display_data"
    }
   ],
   "source": [
    "ax = sns.countplot( x = full_df[full_df['LOCNASC'] == 'Aldeia Indígena']['GESTACAO'])\n",
    "ax.bar_label(ax.containers[0])"
   ]
  },
  {
   "cell_type": "code",
   "execution_count": 108,
   "metadata": {},
   "outputs": [
    {
     "data": {
      "text/plain": [
       "0.24341821320673285"
      ]
     },
     "execution_count": 108,
     "metadata": {},
     "output_type": "execute_result"
    }
   ],
   "source": [
    "counts_ald = full_df[full_df['LOCNASC'] == 'Aldeia Indígena']['GESTACAO'].value_counts(sort=False)\n",
    "\n",
    "counts_ald[1] / (counts_ald[0] + counts_ald[1])"
   ]
  },
  {
   "cell_type": "code",
   "execution_count": 89,
   "metadata": {},
   "outputs": [
    {
     "data": {
      "text/plain": [
       "[Text(0, 0, '15738'), Text(0, 0, '2747')]"
      ]
     },
     "execution_count": 89,
     "metadata": {},
     "output_type": "execute_result"
    },
    {
     "data": {
      "image/png": "[encoded data removed]",
      "text/plain": [
       "<Figure size 432x288 with 1 Axes>"
      ]
     },
     "metadata": {
      "needs_background": "light"
     },
     "output_type": "display_data"
    }
   ],
   "source": [
    "ax = sns.countplot( x = full_df[full_df['LOCNASC'] == 'Domicílio']['GESTACAO'])\n",
    "ax.bar_label(ax.containers[0])"
   ]
  },
  {
   "cell_type": "code",
   "execution_count": 109,
   "metadata": {},
   "outputs": [
    {
     "data": {
      "text/plain": [
       "0.1486069786313227"
      ]
     },
     "execution_count": 109,
     "metadata": {},
     "output_type": "execute_result"
    }
   ],
   "source": [
    "values_dom = full_df[full_df['LOCNASC'] == 'Domicílio']['GESTACAO'].value_counts(sort=False)\n",
    "values_dom[1] / (values_dom[0] + values_dom[1])"
   ]
  },
  {
   "cell_type": "markdown",
   "metadata": {},
   "source": [
    "Em aldeias indiginas, é notável que há uma proporção maior de prematuros, provavelmente pelo escasso acesso a medicos. Domicilios obitveram valores próximos aos que ocorrem no hospital."
   ]
  },
  {
   "cell_type": "markdown",
   "metadata": {
    "colab_type": "text",
    "id": "ehWz8rAcgZ0c",
    "pycharm": {
     "name": "#%% md\n"
    }
   },
   "source": [
    "# Final Plots"
   ]
  },
  {
   "cell_type": "markdown",
   "metadata": {
    "colab_type": "text",
    "id": "OHyF3RvU2q9r",
    "pycharm": {
     "name": "#%% md\n"
    }
   },
   "source": [
    "In this section, you need to enhance 5 multivariate visualizations that were presented in the previous section of the report.\n",
    "The key here is to enhance these visualizations with the goal of presenting them for an audience that is not familiar with the dataset used or with data analysis.\n",
    "**Therefore, make sure that its size, colors, textures, etc, are appropriate are convey the right information to the audience.**\n",
    "\n",
    "For your final plots, make sure you follow these steps:\n",
    "1. Present the plot\n",
    "2. Provide a description of the visualization, including the main findings that we can extract from it\n",
    "\n",
    "\n",
    "**Hint: take a look at the checklist also made available based on the work of Evergreen.**"
   ]
  },
  {
   "cell_type": "code",
   "execution_count": 84,
   "metadata": {
    "colab": {},
    "colab_type": "code",
    "id": "K90_0h6JgfnW",
    "pycharm": {
     "name": "#%%\n"
    }
   },
   "outputs": [],
   "source": [
    "# your code goes here"
   ]
  },
  {
   "cell_type": "markdown",
   "metadata": {
    "colab_type": "text",
    "id": "Ua7B5nTmgbN7",
    "pycharm": {
     "name": "#%% md\n"
    }
   },
   "source": [
    "# Digest"
   ]
  },
  {
   "cell_type": "markdown",
   "metadata": {
    "colab_type": "text",
    "id": "YJ0cqdoj4Lg7",
    "pycharm": {
     "name": "#%% md\n"
    }
   },
   "source": [
    "In this section you should write down all the main findings of this exploratory data analysis. Furthermore, you should provide a reflection about your own work and effort during the module, highlighting what you believe you have done well and what you should have done differently. This digest should have at least 2500 characters (no spaces)."
   ]
  },
  {
   "cell_type": "markdown",
   "metadata": {
    "colab_type": "text",
    "id": "NQWFN0TEPUzp",
    "pycharm": {
     "name": "#%% md\n"
    }
   },
   "source": [
    "```\n",
    "Add your text here.\n",
    "```"
   ]
  },
  {
   "cell_type": "markdown",
   "metadata": {
    "colab_type": "text",
    "id": "_CaFQEil1F6Q",
    "pycharm": {
     "name": "#%% md\n"
    }
   },
   "source": [
    "# Final Steps\n"
   ]
  },
  {
   "cell_type": "markdown",
   "metadata": {
    "colab_type": "text",
    "id": "a2R5Kily1H7f",
    "pycharm": {
     "name": "#%% md\n"
    }
   },
   "source": [
    "1. Save this report as a jupyter notebook (`.ipynb`)\n",
    "2. Save a copy of this report as a PDF file (`.pdf`)\n",
    "3. Copy the dataset\n",
    "4. Zip it all together within a single file (`<your_team_name>.zip`)\n",
    "5. Send it over using Blackboard."
   ]
  },
  {
   "cell_type": "code",
   "execution_count": null,
   "metadata": {
    "pycharm": {
     "name": "#%%\n"
    }
   },
   "outputs": [],
   "source": []
  }
 ],
 "metadata": {
  "accelerator": "GPU",
  "colab": {
   "collapsed_sections": [],
   "name": "PPGIa_template_data_science.ipynb",
   "provenance": [],
   "toc_visible": true
  },
  "kernelspec": {
   "display_name": "Python 3 (ipykernel)",
   "language": "python",
   "name": "python3"
  },
  "language_info": {
   "codemirror_mode": {
    "name": "ipython",
    "version": 3
   },
   "file_extension": ".py",
   "mimetype": "text/x-python",
   "name": "python",
   "nbconvert_exporter": "python",
   "pygments_lexer": "ipython3",
   "version": "3.9.12"
  }
 },
 "nbformat": 4,
 "nbformat_minor": 1
}
